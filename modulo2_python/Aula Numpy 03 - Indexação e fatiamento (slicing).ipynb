{
 "cells": [
  {
   "cell_type": "markdown",
   "metadata": {},
   "source": [
    "# Indexação e fatiamento (slicing)"
   ]
  },
  {
   "cell_type": "code",
   "execution_count": 1,
   "metadata": {},
   "outputs": [],
   "source": [
    "# Importando o NumPy\n",
    "import numpy as np"
   ]
  },
  {
   "cell_type": "code",
   "execution_count": 2,
   "metadata": {},
   "outputs": [
    {
     "data": {
      "text/plain": [
       "array([9, 4, 1, 5, 1, 2, 8, 7, 1, 8])"
      ]
     },
     "execution_count": 2,
     "metadata": {},
     "output_type": "execute_result"
    }
   ],
   "source": [
    "# Cria um ndarray com 10 elementos entre 0 e 9\n",
    "a1D = np.random.randint(0, 10, 10)\n",
    "a1D"
   ]
  },
  {
   "cell_type": "code",
   "execution_count": 3,
   "metadata": {},
   "outputs": [
    {
     "data": {
      "text/plain": [
       "array([[37, 85, 52, 84, 74],\n",
       "       [13, 63, 20, 32, 82],\n",
       "       [66, 85, 67, 54, 46],\n",
       "       [25, 69, 36, 49, 16]])"
      ]
     },
     "execution_count": 3,
     "metadata": {},
     "output_type": "execute_result"
    }
   ],
   "source": [
    "a2D = np.random.randint(1, 101, (4,5)) # Cria um ndarray de 4 linhas x 5 colunas com elementos entre 1 e 100\n",
    "a2D"
   ]
  },
  {
   "cell_type": "code",
   "execution_count": 4,
   "metadata": {},
   "outputs": [
    {
     "data": {
      "text/plain": [
       "array([[[0.48253061, 0.91905988, 0.39742522, 0.16533053, 0.74094557],\n",
       "        [0.36559556, 0.15097628, 0.83405303, 0.35825551, 0.85615512],\n",
       "        [0.35888567, 0.05891074, 0.96303495, 0.98233007, 0.16776709],\n",
       "        [0.1246679 , 0.63446474, 0.65787286, 0.10261504, 0.02957923]],\n",
       "\n",
       "       [[0.7918011 , 0.02635903, 0.58974747, 0.13145857, 0.63122776],\n",
       "        [0.53365655, 0.75607181, 0.73725864, 0.94901079, 0.01798678],\n",
       "        [0.64305698, 0.2940565 , 0.35206989, 0.15313155, 0.23866109],\n",
       "        [0.24426193, 0.67278129, 0.81918711, 0.80520872, 0.7541699 ]],\n",
       "\n",
       "       [[0.12073424, 0.23241315, 0.50498096, 0.88668998, 0.9225101 ],\n",
       "        [0.67959994, 0.463592  , 0.39730847, 0.27172128, 0.23351521],\n",
       "        [0.48896807, 0.35096627, 0.48637914, 0.63422315, 0.22647463],\n",
       "        [0.69918068, 0.68940392, 0.74826494, 0.53788155, 0.45454759]]])"
      ]
     },
     "execution_count": 4,
     "metadata": {},
     "output_type": "execute_result"
    }
   ],
   "source": [
    "a3D = np.random.random((3,4,5)) # Cria um ndarray de 3 páginas x 4 linhas x 5 colunas com elementos entre 0 e 1\n",
    "a3D"
   ]
  },
  {
   "cell_type": "markdown",
   "metadata": {},
   "source": [
    "### Acessando elementos específicos"
   ]
  },
  {
   "cell_type": "code",
   "execution_count": 5,
   "metadata": {},
   "outputs": [
    {
     "data": {
      "text/plain": [
       "array([9, 4, 1, 5, 1, 2, 8, 7, 1, 8])"
      ]
     },
     "execution_count": 5,
     "metadata": {},
     "output_type": "execute_result"
    }
   ],
   "source": [
    "# Acessando elementos de um ndarray de 1 dimensão\n",
    "a1D"
   ]
  },
  {
   "cell_type": "code",
   "execution_count": 6,
   "metadata": {},
   "outputs": [
    {
     "data": {
      "text/plain": [
       "9"
      ]
     },
     "execution_count": 6,
     "metadata": {},
     "output_type": "execute_result"
    }
   ],
   "source": [
    "# nome_do_array[índice]\n",
    "a1D[0]"
   ]
  },
  {
   "cell_type": "code",
   "execution_count": 7,
   "metadata": {},
   "outputs": [
    {
     "data": {
      "text/plain": [
       "1"
      ]
     },
     "execution_count": 7,
     "metadata": {},
     "output_type": "execute_result"
    }
   ],
   "source": [
    "a1D[2]"
   ]
  },
  {
   "cell_type": "code",
   "execution_count": 8,
   "metadata": {},
   "outputs": [
    {
     "data": {
      "text/plain": [
       "8"
      ]
     },
     "execution_count": 8,
     "metadata": {},
     "output_type": "execute_result"
    }
   ],
   "source": [
    "a1D[-1]"
   ]
  },
  {
   "cell_type": "code",
   "execution_count": 9,
   "metadata": {},
   "outputs": [
    {
     "data": {
      "text/plain": [
       "array([5, 9, 8])"
      ]
     },
     "execution_count": 9,
     "metadata": {},
     "output_type": "execute_result"
    }
   ],
   "source": [
    "indices = [3, 0, -1] # Definindo uma lista com os índices que se deseja acessar\n",
    "a1D[indices]"
   ]
  },
  {
   "cell_type": "code",
   "execution_count": 10,
   "metadata": {},
   "outputs": [
    {
     "data": {
      "text/plain": [
       "array([[37, 85, 52, 84, 74],\n",
       "       [13, 63, 20, 32, 82],\n",
       "       [66, 85, 67, 54, 46],\n",
       "       [25, 69, 36, 49, 16]])"
      ]
     },
     "execution_count": 10,
     "metadata": {},
     "output_type": "execute_result"
    }
   ],
   "source": [
    "# Acessando elementos de um ndarray de 2 dimensões\n",
    "a2D"
   ]
  },
  {
   "cell_type": "code",
   "execution_count": 11,
   "metadata": {},
   "outputs": [
    {
     "data": {
      "text/plain": [
       "20"
      ]
     },
     "execution_count": 11,
     "metadata": {},
     "output_type": "execute_result"
    }
   ],
   "source": [
    "# nome_da_matriz[linha][coluna]\n",
    "a2D[1][2]"
   ]
  },
  {
   "cell_type": "code",
   "execution_count": 12,
   "metadata": {},
   "outputs": [
    {
     "data": {
      "text/plain": [
       "16"
      ]
     },
     "execution_count": 12,
     "metadata": {},
     "output_type": "execute_result"
    }
   ],
   "source": [
    "a2D[3][4]"
   ]
  },
  {
   "cell_type": "code",
   "execution_count": 13,
   "metadata": {},
   "outputs": [
    {
     "data": {
      "text/plain": [
       "array([37, 63, 67, 49])"
      ]
     },
     "execution_count": 13,
     "metadata": {},
     "output_type": "execute_result"
    }
   ],
   "source": [
    "indice_lin = [0, 1, 2, 3]\n",
    "indice_col = [0, 1, 2, 3]\n",
    "\n",
    "a2D[indice_lin, indice_col]"
   ]
  },
  {
   "cell_type": "code",
   "execution_count": 14,
   "metadata": {},
   "outputs": [
    {
     "data": {
      "text/plain": [
       "array([84, 20, 85, 25])"
      ]
     },
     "execution_count": 14,
     "metadata": {},
     "output_type": "execute_result"
    }
   ],
   "source": [
    "indice_lin = [0, 1, 2, 3]\n",
    "indice_col = [3, 2, 1, 0]\n",
    "\n",
    "a2D[indice_lin, indice_col]"
   ]
  },
  {
   "cell_type": "code",
   "execution_count": 15,
   "metadata": {},
   "outputs": [
    {
     "data": {
      "text/plain": [
       "array([49, 67, 63, 37])"
      ]
     },
     "execution_count": 15,
     "metadata": {},
     "output_type": "execute_result"
    }
   ],
   "source": [
    "indice_lin = [3, 2, 1, 0]\n",
    "indice_col = [3, 2, 1, 0]\n",
    "\n",
    "a2D[indice_lin, indice_col]"
   ]
  },
  {
   "cell_type": "code",
   "execution_count": 16,
   "metadata": {},
   "outputs": [
    {
     "data": {
      "text/plain": [
       "array([[37, 85, 52, 37],\n",
       "       [13, 63, 20, 13],\n",
       "       [66, 85, 67, 66],\n",
       "       [25, 69, 36, 25]])"
      ]
     },
     "execution_count": 16,
     "metadata": {},
     "output_type": "execute_result"
    }
   ],
   "source": [
    "a2D[:,[0,1,2,0]] "
   ]
  },
  {
   "cell_type": "code",
   "execution_count": 21,
   "metadata": {},
   "outputs": [
    {
     "data": {
      "text/plain": [
       "array([[13, 63, 20, 13],\n",
       "       [37, 85, 52, 37],\n",
       "       [13, 63, 20, 13],\n",
       "       [37, 85, 52, 37]])"
      ]
     },
     "execution_count": 21,
     "metadata": {},
     "output_type": "execute_result"
    }
   ],
   "source": [
    "a2D[:,[0,1,2,0]][[1, 0, 1, 0]]"
   ]
  },
  {
   "cell_type": "code",
   "execution_count": 18,
   "metadata": {},
   "outputs": [
    {
     "data": {
      "text/plain": [
       "array([[37, 85, 52, 84, 74],\n",
       "       [13, 63, 20, 32, 82],\n",
       "       [66, 85, 67, 54, 46],\n",
       "       [25, 69, 36, 49, 16]])"
      ]
     },
     "execution_count": 18,
     "metadata": {},
     "output_type": "execute_result"
    }
   ],
   "source": [
    "a2D"
   ]
  },
  {
   "cell_type": "code",
   "execution_count": 19,
   "metadata": {},
   "outputs": [
    {
     "data": {
      "text/plain": [
       "array([[13, 63, 20, 13],\n",
       "       [37, 85, 52, 37],\n",
       "       [13, 63, 20, 13],\n",
       "       [37, 85, 52, 37]])"
      ]
     },
     "execution_count": 19,
     "metadata": {},
     "output_type": "execute_result"
    }
   ],
   "source": [
    "a2D[[1, 0, 1, 0]][:,[0,1,2,0]] "
   ]
  },
  {
   "cell_type": "code",
   "execution_count": 22,
   "metadata": {},
   "outputs": [
    {
     "data": {
      "text/plain": [
       "array([[[0.48253061, 0.91905988, 0.39742522, 0.16533053, 0.74094557],\n",
       "        [0.36559556, 0.15097628, 0.83405303, 0.35825551, 0.85615512],\n",
       "        [0.35888567, 0.05891074, 0.96303495, 0.98233007, 0.16776709],\n",
       "        [0.1246679 , 0.63446474, 0.65787286, 0.10261504, 0.02957923]],\n",
       "\n",
       "       [[0.7918011 , 0.02635903, 0.58974747, 0.13145857, 0.63122776],\n",
       "        [0.53365655, 0.75607181, 0.73725864, 0.94901079, 0.01798678],\n",
       "        [0.64305698, 0.2940565 , 0.35206989, 0.15313155, 0.23866109],\n",
       "        [0.24426193, 0.67278129, 0.81918711, 0.80520872, 0.7541699 ]],\n",
       "\n",
       "       [[0.12073424, 0.23241315, 0.50498096, 0.88668998, 0.9225101 ],\n",
       "        [0.67959994, 0.463592  , 0.39730847, 0.27172128, 0.23351521],\n",
       "        [0.48896807, 0.35096627, 0.48637914, 0.63422315, 0.22647463],\n",
       "        [0.69918068, 0.68940392, 0.74826494, 0.53788155, 0.45454759]]])"
      ]
     },
     "execution_count": 22,
     "metadata": {},
     "output_type": "execute_result"
    }
   ],
   "source": [
    "# Acessando elementos de um ndarray de 3 dimensões\n",
    "a3D"
   ]
  },
  {
   "cell_type": "code",
   "execution_count": 23,
   "metadata": {},
   "outputs": [
    {
     "data": {
      "text/plain": [
       "0.8866899760954104"
      ]
     },
     "execution_count": 23,
     "metadata": {},
     "output_type": "execute_result"
    }
   ],
   "source": [
    "# nome_do_cubo[página][linha][coluna]\n",
    "a3D[2][0][3]"
   ]
  },
  {
   "cell_type": "code",
   "execution_count": 24,
   "metadata": {},
   "outputs": [
    {
     "data": {
      "text/plain": [
       "0.634464743749746"
      ]
     },
     "execution_count": 24,
     "metadata": {},
     "output_type": "execute_result"
    }
   ],
   "source": [
    "a3D[0][3][1]"
   ]
  },
  {
   "cell_type": "markdown",
   "metadata": {},
   "source": [
    "### Fatiamento (slicing)"
   ]
  },
  {
   "cell_type": "code",
   "execution_count": 25,
   "metadata": {},
   "outputs": [
    {
     "data": {
      "text/plain": [
       "array([9, 4, 1, 5, 1, 2, 8, 7, 1, 8])"
      ]
     },
     "execution_count": 25,
     "metadata": {},
     "output_type": "execute_result"
    }
   ],
   "source": [
    "# Array de 1 dimensão\n",
    "a1D"
   ]
  },
  {
   "cell_type": "code",
   "execution_count": 27,
   "metadata": {},
   "outputs": [
    {
     "data": {
      "text/plain": [
       "array([4, 1, 5, 1, 2])"
      ]
     },
     "execution_count": 27,
     "metadata": {},
     "output_type": "execute_result"
    }
   ],
   "source": [
    "a = a1D[1:5] # Índice 1 ao 4\n",
    "a"
   ]
  },
  {
   "cell_type": "code",
   "execution_count": 28,
   "metadata": {},
   "outputs": [
    {
     "data": {
      "text/plain": [
       "array([9, 4, 1, 5, 1, 2])"
      ]
     },
     "execution_count": 28,
     "metadata": {},
     "output_type": "execute_result"
    }
   ],
   "source": [
    "b = a1D[0:6] # Índice 0 ao 5\n",
    "b"
   ]
  },
  {
   "cell_type": "code",
   "execution_count": 29,
   "metadata": {},
   "outputs": [
    {
     "data": {
      "text/plain": [
       "array([9, 4, 1, 5, 1, 2])"
      ]
     },
     "execution_count": 29,
     "metadata": {},
     "output_type": "execute_result"
    }
   ],
   "source": [
    "c = a1D[:6] # Do início ao 5\n",
    "c"
   ]
  },
  {
   "cell_type": "code",
   "execution_count": 30,
   "metadata": {},
   "outputs": [
    {
     "data": {
      "text/plain": [
       "array([9, 1, 1, 8, 1])"
      ]
     },
     "execution_count": 30,
     "metadata": {},
     "output_type": "execute_result"
    }
   ],
   "source": [
    "d = a1D[::2] # Do início ao fim, com passo 2\n",
    "d"
   ]
  },
  {
   "cell_type": "code",
   "execution_count": 31,
   "metadata": {},
   "outputs": [
    {
     "data": {
      "text/plain": [
       "array([8, 1, 7, 8, 2, 1, 5, 1, 4, 9])"
      ]
     },
     "execution_count": 31,
     "metadata": {},
     "output_type": "execute_result"
    }
   ],
   "source": [
    "e = a1D[-1::-1] # Do final até o início\n",
    "e"
   ]
  },
  {
   "cell_type": "code",
   "execution_count": 32,
   "metadata": {},
   "outputs": [
    {
     "data": {
      "text/plain": [
       "array([[37, 85, 52, 84, 74],\n",
       "       [13, 63, 20, 32, 82],\n",
       "       [66, 85, 67, 54, 46],\n",
       "       [25, 69, 36, 49, 16]])"
      ]
     },
     "execution_count": 32,
     "metadata": {},
     "output_type": "execute_result"
    }
   ],
   "source": [
    "# Array de 2 dimensões\n",
    "a2D"
   ]
  },
  {
   "cell_type": "code",
   "execution_count": 33,
   "metadata": {},
   "outputs": [
    {
     "data": {
      "text/plain": [
       "array([37, 85, 52, 84, 74])"
      ]
     },
     "execution_count": 33,
     "metadata": {},
     "output_type": "execute_result"
    }
   ],
   "source": [
    "linha0 = a2D[0] # Todos os elementos da linha 0 - outra forma seria: linha0 = a2D[0,:]\n",
    "linha0"
   ]
  },
  {
   "cell_type": "code",
   "execution_count": 34,
   "metadata": {},
   "outputs": [
    {
     "data": {
      "text/plain": [
       "array([13, 63, 20, 32, 82])"
      ]
     },
     "execution_count": 34,
     "metadata": {},
     "output_type": "execute_result"
    }
   ],
   "source": [
    "linha1 = a2D[1,:] # Todos os elementos da linha 1\n",
    "linha1"
   ]
  },
  {
   "cell_type": "code",
   "execution_count": 35,
   "metadata": {},
   "outputs": [
    {
     "data": {
      "text/plain": [
       "array([85, 67, 54])"
      ]
     },
     "execution_count": 35,
     "metadata": {},
     "output_type": "execute_result"
    }
   ],
   "source": [
    "linha2 = a2D[2,1:4] # Linha 2, colunas 1, 2 e 3\n",
    "linha2"
   ]
  },
  {
   "cell_type": "code",
   "execution_count": 36,
   "metadata": {},
   "outputs": [
    {
     "data": {
      "text/plain": [
       "array([25, 69, 36, 49, 16])"
      ]
     },
     "execution_count": 36,
     "metadata": {},
     "output_type": "execute_result"
    }
   ],
   "source": [
    "linha3 = a2D[:][3] # a2D[:] retorna toda a matriz, então de toda a matriz queremos a linha 3 a2D[:][3]\n",
    "linha3"
   ]
  },
  {
   "cell_type": "code",
   "execution_count": 37,
   "metadata": {},
   "outputs": [
    {
     "data": {
      "text/plain": [
       "array([52, 20, 67, 36])"
      ]
     },
     "execution_count": 37,
     "metadata": {},
     "output_type": "execute_result"
    }
   ],
   "source": [
    "coluna2 = a2D[:,2] # De todas as linhas, selecionar a coluna 2\n",
    "coluna2"
   ]
  },
  {
   "cell_type": "code",
   "execution_count": 38,
   "metadata": {},
   "outputs": [
    {
     "data": {
      "text/plain": [
       "array([32, 54, 49])"
      ]
     },
     "execution_count": 38,
     "metadata": {},
     "output_type": "execute_result"
    }
   ],
   "source": [
    "coluna3 = a2D[1:,3] # Da linha um até a última, selecionar a coluna 3\n",
    "coluna3"
   ]
  },
  {
   "cell_type": "code",
   "execution_count": 39,
   "metadata": {},
   "outputs": [
    {
     "data": {
      "text/plain": [
       "array([[[0.48253061, 0.91905988, 0.39742522, 0.16533053, 0.74094557],\n",
       "        [0.36559556, 0.15097628, 0.83405303, 0.35825551, 0.85615512],\n",
       "        [0.35888567, 0.05891074, 0.96303495, 0.98233007, 0.16776709],\n",
       "        [0.1246679 , 0.63446474, 0.65787286, 0.10261504, 0.02957923]],\n",
       "\n",
       "       [[0.7918011 , 0.02635903, 0.58974747, 0.13145857, 0.63122776],\n",
       "        [0.53365655, 0.75607181, 0.73725864, 0.94901079, 0.01798678],\n",
       "        [0.64305698, 0.2940565 , 0.35206989, 0.15313155, 0.23866109],\n",
       "        [0.24426193, 0.67278129, 0.81918711, 0.80520872, 0.7541699 ]],\n",
       "\n",
       "       [[0.12073424, 0.23241315, 0.50498096, 0.88668998, 0.9225101 ],\n",
       "        [0.67959994, 0.463592  , 0.39730847, 0.27172128, 0.23351521],\n",
       "        [0.48896807, 0.35096627, 0.48637914, 0.63422315, 0.22647463],\n",
       "        [0.69918068, 0.68940392, 0.74826494, 0.53788155, 0.45454759]]])"
      ]
     },
     "execution_count": 39,
     "metadata": {},
     "output_type": "execute_result"
    }
   ],
   "source": [
    "# Array de 3 dimensões\n",
    "a3D"
   ]
  },
  {
   "cell_type": "code",
   "execution_count": 40,
   "metadata": {},
   "outputs": [
    {
     "data": {
      "text/plain": [
       "array([[0.7918011 , 0.02635903, 0.58974747, 0.13145857, 0.63122776],\n",
       "       [0.53365655, 0.75607181, 0.73725864, 0.94901079, 0.01798678],\n",
       "       [0.64305698, 0.2940565 , 0.35206989, 0.15313155, 0.23866109],\n",
       "       [0.24426193, 0.67278129, 0.81918711, 0.80520872, 0.7541699 ]])"
      ]
     },
     "execution_count": 40,
     "metadata": {},
     "output_type": "execute_result"
    }
   ],
   "source": [
    "# Acessando a página/face 1\n",
    "face1 = a3D[1]\n",
    "face1"
   ]
  },
  {
   "cell_type": "code",
   "execution_count": 41,
   "metadata": {},
   "outputs": [
    {
     "data": {
      "text/plain": [
       "array([[0.02635903, 0.58974747, 0.13145857],\n",
       "       [0.75607181, 0.73725864, 0.94901079],\n",
       "       [0.2940565 , 0.35206989, 0.15313155]])"
      ]
     },
     "execution_count": 41,
     "metadata": {},
     "output_type": "execute_result"
    }
   ],
   "source": [
    "# Acessando uma parte da face1\n",
    "subface1 = a3D[1,0:3, 1:4]\n",
    "subface1"
   ]
  },
  {
   "cell_type": "code",
   "execution_count": 42,
   "metadata": {},
   "outputs": [
    {
     "data": {
      "text/plain": [
       "array([0.35888567, 0.05891074, 0.96303495, 0.98233007, 0.16776709])"
      ]
     },
     "execution_count": 42,
     "metadata": {},
     "output_type": "execute_result"
    }
   ],
   "source": [
    "linha2face0 = a3D[0,2] # outra forma: linha2face0 = a3D[0,2,:]\n",
    "linha2face0"
   ]
  },
  {
   "cell_type": "code",
   "execution_count": 43,
   "metadata": {},
   "outputs": [
    {
     "data": {
      "text/plain": [
       "array([[[0.48253061, 0.91905988, 0.39742522, 0.16533053, 0.74094557],\n",
       "        [0.36559556, 0.15097628, 0.83405303, 0.35825551, 0.85615512],\n",
       "        [0.35888567, 0.05891074, 0.96303495, 0.98233007, 0.16776709],\n",
       "        [0.1246679 , 0.63446474, 0.65787286, 0.10261504, 0.02957923]],\n",
       "\n",
       "       [[0.7918011 , 0.02635903, 0.58974747, 0.13145857, 0.63122776],\n",
       "        [0.53365655, 0.75607181, 0.73725864, 0.94901079, 0.01798678],\n",
       "        [0.64305698, 0.2940565 , 0.35206989, 0.15313155, 0.23866109],\n",
       "        [0.24426193, 0.67278129, 0.81918711, 0.80520872, 0.7541699 ]],\n",
       "\n",
       "       [[0.12073424, 0.23241315, 0.50498096, 0.88668998, 0.9225101 ],\n",
       "        [0.67959994, 0.463592  , 0.39730847, 0.27172128, 0.23351521],\n",
       "        [0.48896807, 0.35096627, 0.48637914, 0.63422315, 0.22647463],\n",
       "        [0.69918068, 0.68940392, 0.74826494, 0.53788155, 0.45454759]]])"
      ]
     },
     "execution_count": 43,
     "metadata": {},
     "output_type": "execute_result"
    }
   ],
   "source": [
    "a3D"
   ]
  },
  {
   "cell_type": "code",
   "execution_count": 44,
   "metadata": {},
   "outputs": [
    {
     "data": {
      "text/plain": [
       "array([[0.36559556, 0.15097628, 0.83405303, 0.35825551, 0.85615512],\n",
       "       [0.53365655, 0.75607181, 0.73725864, 0.94901079, 0.01798678],\n",
       "       [0.67959994, 0.463592  , 0.39730847, 0.27172128, 0.23351521]])"
      ]
     },
     "execution_count": 44,
     "metadata": {},
     "output_type": "execute_result"
    }
   ],
   "source": [
    "linha1todasfaces = a3D[:,1] # outra forma: linha1todasfaces = a3D[:,1,:]\n",
    "linha1todasfaces"
   ]
  },
  {
   "cell_type": "code",
   "execution_count": 45,
   "metadata": {},
   "outputs": [
    {
     "data": {
      "text/plain": [
       "array([[0.16533053, 0.35825551, 0.98233007, 0.10261504],\n",
       "       [0.13145857, 0.94901079, 0.15313155, 0.80520872],\n",
       "       [0.88668998, 0.27172128, 0.63422315, 0.53788155]])"
      ]
     },
     "execution_count": 45,
     "metadata": {},
     "output_type": "execute_result"
    }
   ],
   "source": [
    "coluna3todasfaces = a3D[:,:,3]\n",
    "coluna3todasfaces"
   ]
  },
  {
   "cell_type": "markdown",
   "metadata": {},
   "source": [
    "### Indexação com booleanos"
   ]
  },
  {
   "cell_type": "code",
   "execution_count": 46,
   "metadata": {},
   "outputs": [
    {
     "data": {
      "text/plain": [
       "array([[263, 400,  25, 104,  24, 167, 343, 239],\n",
       "       [125, 405,  73, 493, 102, 118, 164,  70],\n",
       "       [297, 362, 299, 231, 162, 332,  71, 122],\n",
       "       [134, 292, 140, 124, 474,  63, 236, 468],\n",
       "       [358, 476, 366,  62, 237, 257, 233, 172],\n",
       "       [125,  17,  91,  86, 392, 434, 279, 460],\n",
       "       [240, 429,  86, 304, 258, 363,  78, 449],\n",
       "       [418, 489, 415, 360, 390,  79, 233, 119],\n",
       "       [194, 212, 158, 153, 479, 321, 263, 328],\n",
       "       [224, 339,  15, 190, 180,  72,  75, 422]])"
      ]
     },
     "execution_count": 46,
     "metadata": {},
     "output_type": "execute_result"
    }
   ],
   "source": [
    "a2D = np.random.randint(1, 501, (10, 8)) # Cria um ndarray de 4 linhas x 5 colunas com elementos entre 1 e 100\n",
    "a2D"
   ]
  },
  {
   "cell_type": "code",
   "execution_count": 47,
   "metadata": {},
   "outputs": [
    {
     "data": {
      "text/plain": [
       "array([[ True,  True, False, False, False, False,  True, False],\n",
       "       [False,  True, False,  True, False, False, False, False],\n",
       "       [ True,  True,  True, False, False,  True, False, False],\n",
       "       [False,  True, False, False,  True, False, False,  True],\n",
       "       [ True,  True,  True, False, False,  True, False, False],\n",
       "       [False, False, False, False,  True,  True,  True,  True],\n",
       "       [False,  True, False,  True,  True,  True, False,  True],\n",
       "       [ True,  True,  True,  True,  True, False, False, False],\n",
       "       [False, False, False, False,  True,  True,  True,  True],\n",
       "       [False,  True, False, False, False, False, False,  True]])"
      ]
     },
     "execution_count": 47,
     "metadata": {},
     "output_type": "execute_result"
    }
   ],
   "source": [
    "a2D >= 250"
   ]
  },
  {
   "cell_type": "code",
   "execution_count": 48,
   "metadata": {},
   "outputs": [
    {
     "data": {
      "text/plain": [
       "array([263, 400, 343, 405, 493, 297, 362, 299, 332, 292, 474, 468, 358,\n",
       "       476, 366, 257, 392, 434, 279, 460, 429, 304, 258, 363, 449, 418,\n",
       "       489, 415, 360, 390, 479, 321, 263, 328, 339, 422])"
      ]
     },
     "execution_count": 48,
     "metadata": {},
     "output_type": "execute_result"
    }
   ],
   "source": [
    "a2D[a2D >= 250]"
   ]
  },
  {
   "cell_type": "code",
   "execution_count": 49,
   "metadata": {},
   "outputs": [
    {
     "data": {
      "text/plain": [
       "241.275"
      ]
     },
     "execution_count": 49,
     "metadata": {},
     "output_type": "execute_result"
    }
   ],
   "source": [
    "a2D.mean()"
   ]
  },
  {
   "cell_type": "code",
   "execution_count": 50,
   "metadata": {},
   "outputs": [
    {
     "data": {
      "text/plain": [
       "array([ 25, 104,  24, 167, 239, 125,  73, 102, 118, 164,  70, 231, 162,\n",
       "        71, 122, 134, 140, 124,  63, 236,  62, 237, 233, 172, 125,  17,\n",
       "        91,  86, 240,  86,  78,  79, 233, 119, 194, 212, 158, 153, 224,\n",
       "        15, 190, 180,  72,  75])"
      ]
     },
     "execution_count": 50,
     "metadata": {},
     "output_type": "execute_result"
    }
   ],
   "source": [
    "a2D[a2D <= a2D.mean()]"
   ]
  },
  {
   "cell_type": "code",
   "execution_count": null,
   "metadata": {
    "collapsed": true
   },
   "outputs": [],
   "source": []
  }
 ],
 "metadata": {
  "kernelspec": {
   "display_name": "Python 3",
   "language": "python",
   "name": "python3"
  },
  "language_info": {
   "codemirror_mode": {
    "name": "ipython",
    "version": 3
   },
   "file_extension": ".py",
   "mimetype": "text/x-python",
   "name": "python",
   "nbconvert_exporter": "python",
   "pygments_lexer": "ipython3",
   "version": "3.7.3"
  }
 },
 "nbformat": 4,
 "nbformat_minor": 2
}
