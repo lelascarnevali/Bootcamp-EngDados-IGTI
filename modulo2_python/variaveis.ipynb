{
 "cells": [
  {
   "cell_type": "markdown",
   "id": "107beb84-f8ec-4c1a-a0c5-d92455fb5cc8",
   "metadata": {},
   "source": [
    "# Variáveis e Tipos"
   ]
  },
  {
   "cell_type": "code",
   "execution_count": 1,
   "id": "4242dc97-aa10-401a-8ef8-3cfbfcbca504",
   "metadata": {},
   "outputs": [],
   "source": [
    "idade = 18"
   ]
  },
  {
   "cell_type": "code",
   "execution_count": 3,
   "id": "f82ef121-62fe-47b0-9d7c-91906f97c540",
   "metadata": {},
   "outputs": [
    {
     "data": {
      "text/plain": [
       "int"
      ]
     },
     "execution_count": 3,
     "metadata": {},
     "output_type": "execute_result"
    }
   ],
   "source": [
    "type(idade)"
   ]
  },
  {
   "cell_type": "code",
   "execution_count": 5,
   "id": "776e8f12-44c2-4cd6-a5e1-4416528e1f94",
   "metadata": {},
   "outputs": [],
   "source": [
    "nome = 'Maria'"
   ]
  },
  {
   "cell_type": "code",
   "execution_count": 6,
   "id": "f4d60513-00e0-4e6d-8ff2-336beb96fb43",
   "metadata": {},
   "outputs": [
    {
     "data": {
      "text/plain": [
       "str"
      ]
     },
     "execution_count": 6,
     "metadata": {},
     "output_type": "execute_result"
    }
   ],
   "source": [
    "type(nome)"
   ]
  },
  {
   "cell_type": "markdown",
   "id": "0c19b388-1866-46d1-9556-650013a5f8c1",
   "metadata": {},
   "source": [
    "# Declaração Múltipla"
   ]
  },
  {
   "cell_type": "code",
   "execution_count": 10,
   "id": "166d52fa-26fc-4546-a204-18b4735980f3",
   "metadata": {},
   "outputs": [],
   "source": [
    "nome1, nome2, nome3, nome4 = 'Maria','João', 'Ana', 'José'"
   ]
  },
  {
   "cell_type": "code",
   "execution_count": 11,
   "id": "ee4a1f2c-b390-493e-80bd-56ffc90f0fe2",
   "metadata": {},
   "outputs": [
    {
     "data": {
      "text/plain": [
       "'Ana'"
      ]
     },
     "execution_count": 11,
     "metadata": {},
     "output_type": "execute_result"
    }
   ],
   "source": [
    "nome3"
   ]
  },
  {
   "cell_type": "markdown",
   "id": "801b903e-8e01-46e9-bce5-1c927e10e5b5",
   "metadata": {},
   "source": [
    "# Nome das Variáveis\n",
    "\n",
    "Podemos usar letras, números e underline "
   ]
  },
  {
   "cell_type": "code",
   "execution_count": 12,
   "id": "913bbc3f-6f55-435b-bb27-e3f73881111c",
   "metadata": {},
   "outputs": [],
   "source": [
    "idade = 18"
   ]
  },
  {
   "cell_type": "code",
   "execution_count": 14,
   "id": "2f45f2cf-1543-4d1e-bfad-552d2afd6f03",
   "metadata": {},
   "outputs": [],
   "source": [
    "\"\"\"Evitar nomes de variáveis sem significado\"\"\"\n",
    "\n",
    "x = 18"
   ]
  },
  {
   "cell_type": "code",
   "execution_count": 16,
   "id": "319ec388-a362-407e-b59e-f1f020ace16c",
   "metadata": {},
   "outputs": [
    {
     "ename": "SyntaxError",
     "evalue": "invalid syntax (524272382.py, line 2)",
     "output_type": "error",
     "traceback": [
      "\u001b[0;36m  Input \u001b[0;32mIn [16]\u001b[0;36m\u001b[0m\n\u001b[0;31m    18idade = 18\u001b[0m\n\u001b[0m      ^\u001b[0m\n\u001b[0;31mSyntaxError\u001b[0m\u001b[0;31m:\u001b[0m invalid syntax\n"
     ]
    }
   ],
   "source": [
    "\"\"\"Não se pode começar com números.\"\"\"\n",
    "18idade = 18"
   ]
  },
  {
   "cell_type": "code",
   "execution_count": 17,
   "id": "b1923577-6158-45c6-b31e-2c6ccd59f6ca",
   "metadata": {},
   "outputs": [
    {
     "ename": "SyntaxError",
     "evalue": "invalid syntax (3048875048.py, line 2)",
     "output_type": "error",
     "traceback": [
      "\u001b[0;36m  Input \u001b[0;32mIn [17]\u001b[0;36m\u001b[0m\n\u001b[0;31m    idade@ = 18\u001b[0m\n\u001b[0m           ^\u001b[0m\n\u001b[0;31mSyntaxError\u001b[0m\u001b[0;31m:\u001b[0m invalid syntax\n"
     ]
    }
   ],
   "source": [
    "\"\"\"Não pode utilizar caracteres especiais, exceto underline.\"\"\"\n",
    "idade@ = 18"
   ]
  },
  {
   "cell_type": "code",
   "execution_count": 18,
   "id": "200a94f2-3947-4250-834b-00fb475e5202",
   "metadata": {},
   "outputs": [],
   "source": [
    "idade_maioridade = 18"
   ]
  },
  {
   "cell_type": "markdown",
   "id": "59e2d155-3049-44bc-90bf-72962bc1c5a0",
   "metadata": {},
   "source": [
    "# Palavras Reservadas"
   ]
  },
  {
   "cell_type": "code",
   "execution_count": 19,
   "id": "ca2bf9c6-74e9-4bff-aa69-9f90e559d992",
   "metadata": {},
   "outputs": [
    {
     "ename": "SyntaxError",
     "evalue": "invalid syntax (4093129643.py, line 1)",
     "output_type": "error",
     "traceback": [
      "\u001b[0;36m  Input \u001b[0;32mIn [19]\u001b[0;36m\u001b[0m\n\u001b[0;31m    def = 18\u001b[0m\n\u001b[0m        ^\u001b[0m\n\u001b[0;31mSyntaxError\u001b[0m\u001b[0;31m:\u001b[0m invalid syntax\n"
     ]
    }
   ],
   "source": [
    "def = 18"
   ]
  },
  {
   "cell_type": "code",
   "execution_count": 20,
   "id": "56263134-a0ff-447d-bfd8-9da20df66e8d",
   "metadata": {},
   "outputs": [],
   "source": [
    "def_ = 18"
   ]
  },
  {
   "cell_type": "code",
   "execution_count": 21,
   "id": "0f415b31-a9eb-40e0-80e7-eaf2311940f9",
   "metadata": {},
   "outputs": [
    {
     "ename": "SyntaxError",
     "evalue": "invalid syntax (401842247.py, line 1)",
     "output_type": "error",
     "traceback": [
      "\u001b[0;36m  Input \u001b[0;32mIn [21]\u001b[0;36m\u001b[0m\n\u001b[0;31m    class = 20\u001b[0m\n\u001b[0m          ^\u001b[0m\n\u001b[0;31mSyntaxError\u001b[0m\u001b[0;31m:\u001b[0m invalid syntax\n"
     ]
    }
   ],
   "source": [
    "class = 20"
   ]
  },
  {
   "cell_type": "markdown",
   "id": "e8e51eb9-cc59-4c9e-b2e8-ea9527b17443",
   "metadata": {},
   "source": [
    "# Convertendo Tipos"
   ]
  },
  {
   "cell_type": "code",
   "execution_count": 22,
   "id": "c7d049dc-3663-450a-be70-8717cbd64996",
   "metadata": {},
   "outputs": [],
   "source": [
    "idade_2, idade_3 = '18', '38'"
   ]
  },
  {
   "cell_type": "code",
   "execution_count": 23,
   "id": "33981993-bc17-43b8-9701-0ddc3436355b",
   "metadata": {},
   "outputs": [
    {
     "data": {
      "text/plain": [
       "'1838'"
      ]
     },
     "execution_count": 23,
     "metadata": {},
     "output_type": "execute_result"
    }
   ],
   "source": [
    "idade_2+idade_3"
   ]
  },
  {
   "cell_type": "code",
   "execution_count": 24,
   "id": "8e7ec890-4afb-43a7-b765-f37ae0c4b5b6",
   "metadata": {},
   "outputs": [
    {
     "data": {
      "text/plain": [
       "56"
      ]
     },
     "execution_count": 24,
     "metadata": {},
     "output_type": "execute_result"
    }
   ],
   "source": [
    "int(idade_2)+int(idade_3)"
   ]
  },
  {
   "cell_type": "code",
   "execution_count": 26,
   "id": "439f9dc5-ac0f-4b56-bd81-b8cc82530cca",
   "metadata": {},
   "outputs": [],
   "source": [
    "nome = 'Maria'"
   ]
  },
  {
   "cell_type": "code",
   "execution_count": 27,
   "id": "6556bc75-82ba-46df-b3fb-4f4def6c1b8c",
   "metadata": {},
   "outputs": [
    {
     "ename": "ValueError",
     "evalue": "invalid literal for int() with base 10: 'Maria'",
     "output_type": "error",
     "traceback": [
      "\u001b[0;31m---------------------------------------------------------------------------\u001b[0m",
      "\u001b[0;31mValueError\u001b[0m                                Traceback (most recent call last)",
      "Input \u001b[0;32mIn [27]\u001b[0m, in \u001b[0;36m<cell line: 3>\u001b[0;34m()\u001b[0m\n\u001b[1;32m      1\u001b[0m \u001b[38;5;124;03m\"\"\"As conversões devem fazer sentido, por exemplo, não podemos converter string em número.\"\"\"\u001b[39;00m\n\u001b[0;32m----> 3\u001b[0m \u001b[38;5;28;43mint\u001b[39;49m\u001b[43m(\u001b[49m\u001b[43mnome\u001b[49m\u001b[43m)\u001b[49m\n",
      "\u001b[0;31mValueError\u001b[0m: invalid literal for int() with base 10: 'Maria'"
     ]
    }
   ],
   "source": [
    "\"\"\"As conversões devem fazer sentido, por exemplo, não podemos converter string em número.\"\"\"\n",
    "\n",
    "int(nome)"
   ]
  },
  {
   "cell_type": "code",
   "execution_count": 29,
   "id": "fd7d4c17-5587-4463-b4f3-77184a494eab",
   "metadata": {},
   "outputs": [
    {
     "data": {
      "text/plain": [
       "20.4"
      ]
     },
     "execution_count": 29,
     "metadata": {},
     "output_type": "execute_result"
    }
   ],
   "source": [
    "round(20.355,1)"
   ]
  },
  {
   "cell_type": "code",
   "execution_count": null,
   "id": "81c592c1-a315-4323-81a3-348b941cffa7",
   "metadata": {},
   "outputs": [],
   "source": []
  }
 ],
 "metadata": {
  "kernelspec": {
   "display_name": "Python 3 (ipykernel)",
   "language": "python",
   "name": "python3"
  },
  "language_info": {
   "codemirror_mode": {
    "name": "ipython",
    "version": 3
   },
   "file_extension": ".py",
   "mimetype": "text/x-python",
   "name": "python",
   "nbconvert_exporter": "python",
   "pygments_lexer": "ipython3",
   "version": "3.9.12"
  }
 },
 "nbformat": 4,
 "nbformat_minor": 5
}
