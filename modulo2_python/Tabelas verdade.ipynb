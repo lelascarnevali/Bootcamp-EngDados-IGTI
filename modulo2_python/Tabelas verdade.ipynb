{
 "cells": [
  {
   "cell_type": "markdown",
   "metadata": {},
   "source": [
    "# TABELAS VERDADE"
   ]
  },
  {
   "cell_type": "code",
   "execution_count": null,
   "metadata": {},
   "outputs": [],
   "source": [
    "# TABELA DO AND (com 2 booleanos)\n",
    "print(\" x     | y     | x and y \")\n",
    "print(\"-------------------------\")\n",
    "print(\" True  | True  |\", True and True )\n",
    "print(\" True  | False |\", True and False )\n",
    "print(\" False | True  |\", False and True)\n",
    "print(\" False | False |\", False and False)"
   ]
  },
  {
   "cell_type": "code",
   "execution_count": null,
   "metadata": {},
   "outputs": [],
   "source": [
    "# TABELA DO AND (com 3 booleanos)\n",
    "print(\" x     | y     | z     |  x and y and z \")\n",
    "print(\"----------------------------------------\")\n",
    "print(\" True  | True  | True  |\",True and True and True)\n",
    "print(\" True  | True  | False |\",True and True and False)\n",
    "print(\" True  | False | True  |\",True and False and True)\n",
    "print(\" True  | False | False |\",True and False and False)\n",
    "print(\" False | True  | True  |\",False and True and True)\n",
    "print(\" False | True  | False |\",False and True and False)\n",
    "print(\" False | False | True  |\",False and False and True)\n",
    "print(\" False | False | False |\",False and False and False)"
   ]
  },
  {
   "cell_type": "code",
   "execution_count": null,
   "metadata": {},
   "outputs": [],
   "source": [
    "# TABELA DO OR\n",
    "print(\" x     | y     | x or y \")\n",
    "print(\"-------------------------\")\n",
    "print(\" True  | True  |\",True or True )\n",
    "print(\" True  | False |\",True or False )\n",
    "print(\" False | True  |\",False or True)\n",
    "print(\" False | False |\",False or False)"
   ]
  },
  {
   "cell_type": "code",
   "execution_count": null,
   "metadata": {},
   "outputs": [],
   "source": [
    "# TABELA DO XOR (EXCLUSIVE OR)\n",
    "print(\" x     | y     | x ^ y \")\n",
    "print(\"-------------------------\")\n",
    "print(\" True  | True  |\",True ^ True )\n",
    "print(\" True  | False |\",True ^ False )\n",
    "print(\" False | True  |\",False ^ True)\n",
    "print(\" False | False |\",False ^ False)"
   ]
  },
  {
   "cell_type": "code",
   "execution_count": null,
   "metadata": {},
   "outputs": [],
   "source": [
    "# TABELA DO NOT\n",
    "print(\" x     | not(x) \")\n",
    "print(\"----------------\")\n",
    "print(\" True  |\",not(True))\n",
    "print(\" False |\",not(False))"
   ]
  },
  {
   "cell_type": "code",
   "execution_count": 6,
   "metadata": {},
   "outputs": [],
   "source": [
    "dic = {\"MG\": \"Minas Gerais\", \"SP\":\"São Paulo\", \"AC\":\"Acre\", \"MA\":\"Maranhão\"}\n",
    "regioes = [\"SE\", \"SE\", \"NO\", \"NE\"]\n",
    "estados = list(zip(dic, dic.values(), regioes))"
   ]
  },
  {
   "cell_type": "code",
   "execution_count": 7,
   "metadata": {},
   "outputs": [
    {
     "data": {
      "text/plain": [
       "[('MG', 'Minas Gerais', 'SE'),\n",
       " ('SP', 'São Paulo', 'SE'),\n",
       " ('AC', 'Acre', 'NO'),\n",
       " ('MA', 'Maranhão', 'NE')]"
      ]
     },
     "execution_count": 7,
     "metadata": {},
     "output_type": "execute_result"
    }
   ],
   "source": [
    "estados"
   ]
  },
  {
   "cell_type": "code",
   "execution_count": 13,
   "metadata": {},
   "outputs": [
    {
     "name": "stdout",
     "output_type": "stream",
     "text": [
      "[1, 2, 3, 4, 5, 6, 7, 8, 9, 10, 11, 12, 13, 14, 15]\n",
      "[3, 6, 9, 12, 15]\n"
     ]
    }
   ],
   "source": [
    "numeros = [n for n in range(1, 16)]\n",
    "print(numeros)\n",
    "numeros_fil = list(filter(lambda x: x%3 ==0, numeros))\n",
    "print(numeros_fil)"
   ]
  },
  {
   "cell_type": "code",
   "execution_count": 16,
   "metadata": {},
   "outputs": [
    {
     "data": {
      "text/plain": [
       "[1904,\n",
       " 1908,\n",
       " 1912,\n",
       " 1916,\n",
       " 1920,\n",
       " 1924,\n",
       " 1928,\n",
       " 1932,\n",
       " 1936,\n",
       " 1940,\n",
       " 1944,\n",
       " 1948,\n",
       " 1952,\n",
       " 1956,\n",
       " 1960,\n",
       " 1964,\n",
       " 1968,\n",
       " 1972,\n",
       " 1976,\n",
       " 1980,\n",
       " 1984,\n",
       " 1988,\n",
       " 1992,\n",
       " 1996,\n",
       " 2000,\n",
       " 2004,\n",
       " 2008,\n",
       " 2012,\n",
       " 2016,\n",
       " 2020]"
      ]
     },
     "execution_count": 16,
     "metadata": {},
     "output_type": "execute_result"
    }
   ],
   "source": [
    "bissextos = list(filter(lambda ano: (ano % 400 == 0) or (ano % 4 == 0 and ano % 100 != 0), range(1900, 2021, 4))) \n",
    "bissextos"
   ]
  },
  {
   "cell_type": "code",
   "execution_count": null,
   "metadata": {},
   "outputs": [],
   "source": []
  }
 ],
 "metadata": {
  "kernelspec": {
   "display_name": "Python 3",
   "language": "python",
   "name": "python3"
  },
  "language_info": {
   "codemirror_mode": {
    "name": "ipython",
    "version": 3
   },
   "file_extension": ".py",
   "mimetype": "text/x-python",
   "name": "python",
   "nbconvert_exporter": "python",
   "pygments_lexer": "ipython3",
   "version": "3.7.3"
  }
 },
 "nbformat": 4,
 "nbformat_minor": 2
}
