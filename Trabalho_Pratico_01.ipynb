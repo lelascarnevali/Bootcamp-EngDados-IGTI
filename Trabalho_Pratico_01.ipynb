{
 "cells": [
  {
   "cell_type": "markdown",
   "id": "46887176-b4d9-4af0-b192-fc6ffbd53c92",
   "metadata": {},
   "source": [
    "# Módulo 2 - Linguagem Python aplicada a Engenharia de Dados\n",
    "## Objetivos de Ensino\n",
    "\n",
    "Exercitar os seguintes conceitos trabalhados no Módulo:\n",
    "1. Tipos do Python;\n",
    "2. Variáveis e funções;\n",
    "3. Condicionais;\n",
    "4. Loops.\n",
    "\n",
    "## Enunciado\n",
    "\n",
    "Neste trabalho prático utilizaremos o dataset presente no link a seguir:\n",
    "https://www.kaggle.com/datasets/ramjasmaurya/1-gb-internet-price.\n",
    "Baixe o dataset antes de prosseguir.\n",
    "\n",
    "As atividades a seguir buscam exercitar os conceitos que foram apresentados no módulo\n",
    "a partir do cumprimento de objetivos práticos. Não existe uma forma única de resolver\n",
    "as atividades, mas ao buscar realizá-las, os conceitos serão automaticamente\n",
    "trabalhados."
   ]
  },
  {
   "cell_type": "markdown",
   "id": "c10d2635-cd6f-4ed5-bba3-a75be1a9a4d8",
   "metadata": {},
   "source": [
    "### Criando uma função para converter país em continente, a partir do arquivo de usuários:\n",
    "\n",
    "Arquivo de Usuários: 'worldwide internet users - users.csv';\n",
    "\n",
    "#### 1. Abra o arquivo de usuários usando pandas;\n",
    "\n",
    "Dica:\n",
    "https://pandas.pydata.org/docs/reference/api/pandas.read_csv.html."
   ]
  },
  {
   "cell_type": "code",
   "execution_count": 1,
   "id": "0a209b48-6b99-463a-a45d-6e9a17d6e1c2",
   "metadata": {},
   "outputs": [],
   "source": [
    "import pandas as pd"
   ]
  },
  {
   "cell_type": "code",
   "execution_count": 2,
   "id": "dcee29b5-bd19-4513-9654-156eb340aaff",
   "metadata": {},
   "outputs": [],
   "source": [
    "dataset = pd.read_csv(\"data/worldwide internet users - users.csv\")"
   ]
  },
  {
   "cell_type": "code",
   "execution_count": 3,
   "id": "56920085-af3d-4cf1-abbe-85c3858bf684",
   "metadata": {},
   "outputs": [
    {
     "data": {
      "text/html": [
       "<div>\n",
       "<style scoped>\n",
       "    .dataframe tbody tr th:only-of-type {\n",
       "        vertical-align: middle;\n",
       "    }\n",
       "\n",
       "    .dataframe tbody tr th {\n",
       "        vertical-align: top;\n",
       "    }\n",
       "\n",
       "    .dataframe thead th {\n",
       "        text-align: right;\n",
       "    }\n",
       "</style>\n",
       "<table border=\"1\" class=\"dataframe\">\n",
       "  <thead>\n",
       "    <tr style=\"text-align: right;\">\n",
       "      <th></th>\n",
       "      <th>Country or area</th>\n",
       "      <th>Subregion</th>\n",
       "      <th>Region</th>\n",
       "      <th>Internet users</th>\n",
       "      <th>Population</th>\n",
       "    </tr>\n",
       "  </thead>\n",
       "  <tbody>\n",
       "    <tr>\n",
       "      <th>209</th>\n",
       "      <td>Saint Helena, Ascension and Tristan da Cunha</td>\n",
       "      <td>Western Africa</td>\n",
       "      <td>Africa</td>\n",
       "      <td>2,906</td>\n",
       "      <td>6,035</td>\n",
       "    </tr>\n",
       "    <tr>\n",
       "      <th>210</th>\n",
       "      <td>Falkland Islands</td>\n",
       "      <td>South America</td>\n",
       "      <td>Americas</td>\n",
       "      <td>2,881</td>\n",
       "      <td>3,234</td>\n",
       "    </tr>\n",
       "    <tr>\n",
       "      <th>211</th>\n",
       "      <td>Montserrat</td>\n",
       "      <td>Caribbean</td>\n",
       "      <td>Americas</td>\n",
       "      <td>2,833</td>\n",
       "      <td>4,993</td>\n",
       "    </tr>\n",
       "    <tr>\n",
       "      <th>212</th>\n",
       "      <td>Wallis and Futuna</td>\n",
       "      <td>Polynesia</td>\n",
       "      <td>Oceania</td>\n",
       "      <td>1,383</td>\n",
       "      <td>11,661</td>\n",
       "    </tr>\n",
       "    <tr>\n",
       "      <th>213</th>\n",
       "      <td>Niue</td>\n",
       "      <td>Polynesia</td>\n",
       "      <td>Oceania</td>\n",
       "      <td>1,034</td>\n",
       "      <td>1,620</td>\n",
       "    </tr>\n",
       "  </tbody>\n",
       "</table>\n",
       "</div>"
      ],
      "text/plain": [
       "                                  Country or area       Subregion    Region  \\\n",
       "209  Saint Helena, Ascension and Tristan da Cunha  Western Africa    Africa   \n",
       "210                              Falkland Islands   South America  Americas   \n",
       "211                                    Montserrat       Caribbean  Americas   \n",
       "212                             Wallis and Futuna       Polynesia   Oceania   \n",
       "213                                          Niue       Polynesia   Oceania   \n",
       "\n",
       "    Internet users Population  \n",
       "209          2,906      6,035  \n",
       "210          2,881      3,234  \n",
       "211          2,833      4,993  \n",
       "212          1,383     11,661  \n",
       "213          1,034      1,620  "
      ]
     },
     "execution_count": 3,
     "metadata": {},
     "output_type": "execute_result"
    }
   ],
   "source": [
    "dataset.tail(5)"
   ]
  },
  {
   "cell_type": "markdown",
   "id": "5a1a4423-cd27-41a4-a14a-8b598f4779e9",
   "metadata": {},
   "source": [
    "#### 2. Crie um dicionário chamado “mapeamento_continente”;"
   ]
  },
  {
   "cell_type": "code",
   "execution_count": 4,
   "id": "8c6c3dec-8698-46ac-8b04-1bf68875b1f1",
   "metadata": {},
   "outputs": [],
   "source": [
    "mapeamento_continente = {}"
   ]
  },
  {
   "cell_type": "code",
   "execution_count": 5,
   "id": "d1605037-dca4-41f6-a59f-cab199695d9a",
   "metadata": {},
   "outputs": [
    {
     "data": {
      "text/plain": [
       "dict"
      ]
     },
     "execution_count": 5,
     "metadata": {},
     "output_type": "execute_result"
    }
   ],
   "source": [
    "type(mapeamento_continente)"
   ]
  },
  {
   "cell_type": "markdown",
   "id": "74fd003e-7836-4d4d-a17c-994bbbf61253",
   "metadata": {},
   "source": [
    "#### 3. Crie uma função \"mapear\"\n",
    "\n",
    "O método recebe um pandas DataFrame e o nome de duas colunas desse\n",
    "dataframe (Uma representa o país, outro o continente). Ele percorre duas colunas\n",
    "em conjunto, inserindo 'mapeamento_continente' uma chave para cada país, com\n",
    "valor sendo o continente;\n",
    "\n",
    "Dicas:\n",
    "* https://docs.python.org/3.3/library/functions.html#zip     \n",
    "* https://pandas.pydata.org/docs/reference/api/pandas.Series.tolist.html."
   ]
  },
  {
   "cell_type": "code",
   "execution_count": 6,
   "id": "57cebc2a-1408-4694-b652-97d929fa05bb",
   "metadata": {
    "tags": []
   },
   "outputs": [],
   "source": [
    "list_map = dataset[['Country or area', 'Region']].values.tolist()"
   ]
  },
  {
   "cell_type": "code",
   "execution_count": 7,
   "id": "61c55051-2b29-4f32-ae0d-24df84cc906e",
   "metadata": {},
   "outputs": [],
   "source": [
    "mapeamento_continente = dict(map(lambda x: (x[0], x[1]), list_map))"
   ]
  },
  {
   "cell_type": "code",
   "execution_count": 8,
   "id": "d92250a0-51d6-4d28-8c7e-44b53238eaca",
   "metadata": {},
   "outputs": [
    {
     "name": "stdout",
     "output_type": "stream",
     "text": [
      "Asia\n"
     ]
    }
   ],
   "source": [
    "\"\"\"Trazendo um valor através de uma chave\"\"\"\n",
    "print(mapeamento_continente.get('China'))"
   ]
  },
  {
   "cell_type": "code",
   "execution_count": 9,
   "id": "5a5f6bda-380c-4104-9190-df23c965b083",
   "metadata": {},
   "outputs": [
    {
     "data": {
      "text/plain": [
       "{'China': 'Asia',\n",
       " 'India': 'Asia',\n",
       " 'United States': 'Americas',\n",
       " 'Indonesia': 'Asia',\n",
       " 'Brazil': 'Americas',\n",
       " 'Nigeria': 'Africa',\n",
       " 'Bangladesh': 'Asia',\n",
       " 'Russia': 'Europe',\n",
       " 'Pakistan': 'Asia',\n",
       " 'Japan': 'Asia'}"
      ]
     },
     "execution_count": 9,
     "metadata": {},
     "output_type": "execute_result"
    }
   ],
   "source": [
    "\"\"\"Exibindo os 10 primeiros items\"\"\"\n",
    "\n",
    "dict(list(mapeamento_continente.items())[:10])"
   ]
  },
  {
   "cell_type": "markdown",
   "id": "628f0c17-d843-4b92-9297-977eab958c98",
   "metadata": {},
   "source": [
    "#### 4. Crie uma função 'retorna_continente':\n",
    "\n",
    "* Que retorna o continente a partir do nome do país, recebido como um parâmetro;\n",
    "* Que use o dicionário 'mapeamento_continente';\n",
    "*  Que use o bloco try/except para lidar com países que não existam dentro do dicionário de mapeamento. Nesses casos, o método deve retornar None e printar a mensagem \"Não existe esse país em nossa base\"."
   ]
  },
  {
   "cell_type": "code",
   "execution_count": 10,
   "id": "3dd0cba4-8216-4980-bbcf-646cb3df1246",
   "metadata": {},
   "outputs": [],
   "source": [
    "def retorna_continente(pais):\n",
    "    try:\n",
    "        x = mapeamento_continente.get(pais)\n",
    "    except:\n",
    "        x = None\n",
    "        print('Não existe esse país em nossa base')\n",
    "    return x"
   ]
  },
  {
   "cell_type": "code",
   "execution_count": 11,
   "id": "f8c52b5c-fad4-42ff-99b7-807d237f2f53",
   "metadata": {},
   "outputs": [
    {
     "name": "stdout",
     "output_type": "stream",
     "text": [
      "Americas\n"
     ]
    }
   ],
   "source": [
    "print(retorna_continente('Brazil'))"
   ]
  },
  {
   "cell_type": "code",
   "execution_count": null,
   "id": "1e110c34-e4c9-4abe-853d-55be6e29fc83",
   "metadata": {},
   "outputs": [],
   "source": []
  },
  {
   "cell_type": "code",
   "execution_count": null,
   "id": "1dd4a2f2-0f1f-4442-9fa2-42a00e8e3797",
   "metadata": {},
   "outputs": [],
   "source": []
  },
  {
   "cell_type": "markdown",
   "id": "5353c26c-c10e-4d8b-a0a6-c1b792125a64",
   "metadata": {},
   "source": [
    "### Adicionando a informação de continente na tabela de velocidades, a partir do mapeamento do arquivo de usuários;\n",
    "\n",
    "Arquivo de velocidades: 'worldwide internet speed in 2022 - avg speed.csv'.\n",
    "\n",
    "#### 1. Abra o arquivo de velocidades usando pandas;\n",
    "\n",
    " Armazene em uma variável do tipo Pandas Dataframe."
   ]
  },
  {
   "cell_type": "code",
   "execution_count": null,
   "id": "6533cb45-ab72-40de-bf1a-6cfa1fbb4733",
   "metadata": {},
   "outputs": [],
   "source": []
  },
  {
   "cell_type": "markdown",
   "id": "91e6e3ba-7fe7-41ab-833a-4c705aa39e61",
   "metadata": {},
   "source": [
    "#### 2. Adicione uma nova coluna 'Continente' ao DataFrame\n",
    "\n",
    "Use a função 'mapa_pais_Continente'.\n",
    "\n",
    "Dicas:\n",
    "* https://stackoverflow.com/questions/33518124/how-toapply-a-function-on-every-row-on-a-dataframe\n",
    "* https://pandas.pydata.org/pandasdocs/stable/reference/api/pandas.DataFrame.apply.html\n",
    "* https://pandas.pydata.org/docs/getting_started/intro_tutorials/05_add_columns.htmlb"
   ]
  },
  {
   "cell_type": "code",
   "execution_count": null,
   "id": "b18bd4b7-93d7-4e2a-a7a9-43231c25795a",
   "metadata": {},
   "outputs": [],
   "source": []
  },
  {
   "cell_type": "markdown",
   "id": "174cf94a-8fa6-4152-b567-7252fd015059",
   "metadata": {},
   "source": [
    "### Trabalhando com os dados de usuários de Internet;\n",
    "\n",
    "Voltando ao arquivo de Usuários: 'worldwide internet users - users.csv'.\n",
    "\n",
    "#### 1. Abra o arquivo de usuários de internet novamente\n",
    "\n",
    "Dica:\n",
    "* https://pandas.pydata.org/docs/reference/api/pandas.read_csv.html"
   ]
  },
  {
   "cell_type": "code",
   "execution_count": null,
   "id": "169436a7-3657-4ca2-ba30-43f38d6b36fc",
   "metadata": {},
   "outputs": [],
   "source": []
  },
  {
   "cell_type": "markdown",
   "id": "b1d2f7c5-b808-4fef-b06e-4ac0ab99c170",
   "metadata": {},
   "source": [
    "#### 2. Crie novas colunas do tipo 'int' para as colunas 'Population' e 'Internet users';\n",
    "\n",
    "Dicas:\n",
    "* Existem valores faltantes na base, sendo necessário filtrar antes de fazer a criação das novas colunas. "
   ]
  },
  {
   "cell_type": "code",
   "execution_count": null,
   "id": "baf78880-f95b-42ae-99bc-3f59da1bf84c",
   "metadata": {},
   "outputs": [],
   "source": []
  }
 ],
 "metadata": {
  "kernelspec": {
   "display_name": "Python 3 (ipykernel)",
   "language": "python",
   "name": "python3"
  },
  "language_info": {
   "codemirror_mode": {
    "name": "ipython",
    "version": 3
   },
   "file_extension": ".py",
   "mimetype": "text/x-python",
   "name": "python",
   "nbconvert_exporter": "python",
   "pygments_lexer": "ipython3",
   "version": "3.9.12"
  }
 },
 "nbformat": 4,
 "nbformat_minor": 5
}
