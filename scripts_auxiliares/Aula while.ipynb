{
 "cells": [
  {
   "cell_type": "markdown",
   "metadata": {},
   "source": [
    "# Comando while\n",
    "\n",
    "O while é o comando utilizado para programar repetições no Python baseadas na avaliação de uma condição. Enquanto a condição for verdadeira, o bloco de comandos interno ao while é repetido. Quando a condição se torna falsa, o bloco de comandos deixa de repetir.\n",
    "\n",
    "```python\n",
    "while (cond):\n",
    "    bloco de comandos\n",
    "```"
   ]
  },
  {
   "cell_type": "markdown",
   "metadata": {},
   "source": [
    "Exemplo 1: Digitar os nomes e idades de diversas pessoas, armazenando esses dados em 2 listas."
   ]
  },
  {
   "cell_type": "code",
   "execution_count": 1,
   "metadata": {},
   "outputs": [
    {
     "name": "stdout",
     "output_type": "stream",
     "text": [
      "Digite um nome: Leandro\n",
      "Digite uma idade: 37\n",
      "Digite um nome: Maria\n",
      "Digite uma idade: 20\n",
      "Digite um nome: Carlos\n",
      "Digite uma idade: 29\n",
      "Digite um nome: Fim\n",
      "\n",
      "\n",
      "Nomes digitados\n",
      "===============\n",
      "['Leandro', 'Maria', 'Carlos']\n",
      "\n",
      "Idades\n",
      "===============\n",
      "[37, 20, 29]\n"
     ]
    }
   ],
   "source": [
    "lista_idades = []\n",
    "lista_pessoas = []\n",
    "\n",
    "nome = input(\"Digite um nome: \")\n",
    "while (nome.lower() != 'fim'):\n",
    "    idade = int(input(\"Digite uma idade: \"))\n",
    "    lista_idades.append(idade)\n",
    "    lista_pessoas.append(nome)\n",
    "    nome = input(\"Digite um nome: \")\n",
    "    \n",
    "print(\"\\n\\nNomes digitados\\n===============\")\n",
    "print(lista_pessoas)\n",
    "print(\"\\nIdades\\n===============\")\n",
    "print(lista_idades)"
   ]
  },
  {
   "cell_type": "markdown",
   "metadata": {},
   "source": [
    "Exemplo 2: Digitar os nomes e idades de 5 pessoas, armazenando esses dados em 2 listas."
   ]
  },
  {
   "cell_type": "code",
   "execution_count": 3,
   "metadata": {},
   "outputs": [
    {
     "name": "stdout",
     "output_type": "stream",
     "text": [
      "Digite um nome: a\n",
      "Digite uma idade: 1\n",
      "Digite um nome: b\n",
      "Digite uma idade: 2\n",
      "Digite um nome: c\n",
      "Digite uma idade: 3\n",
      "Digite um nome: d\n",
      "Digite uma idade: 4\n",
      "Digite um nome: e\n",
      "Digite uma idade: 5\n",
      "\n",
      "\n",
      "Nomes digitados\n",
      "===============\n",
      "['a', 'b', 'c', 'd', 'e']\n",
      "\n",
      "Idades\n",
      "===============\n",
      "[1, 2, 3, 4, 5]\n"
     ]
    }
   ],
   "source": [
    "lista_idades = []\n",
    "lista_pessoas = []\n",
    "cont = 0\n",
    "\n",
    "while (cont < 5):\n",
    "    nome = input(\"Digite um nome: \")    \n",
    "    idade = int(input(\"Digite uma idade: \"))\n",
    "    lista_idades.append(idade)\n",
    "    lista_pessoas.append(nome)\n",
    "    cont += 1 # ou cont += 1\n",
    "    \n",
    "print(\"\\n\\nNomes digitados\\n===============\")\n",
    "print(lista_pessoas)\n",
    "print(\"\\nIdades\\n===============\")\n",
    "print(lista_idades)"
   ]
  },
  {
   "cell_type": "markdown",
   "metadata": {},
   "source": [
    "Exemplo 3: Calcular a soma dos termos da série, enquanto o valor dos termos for maior que 0.0001\n",
    "\n",
    "$S = \\frac{1}{1}+\\frac{1}{4}+\\frac{1}{9}+\\frac{1}{16}+...$"
   ]
  },
  {
   "cell_type": "code",
   "execution_count": 6,
   "metadata": {},
   "outputs": [
    {
     "name": "stdout",
     "output_type": "stream",
     "text": [
      "1o termo 1/1 = 1.0\n",
      "2o termo 1/4 = 0.25\n",
      "3o termo 1/9 = 0.1111111111111111\n",
      "4o termo 1/16 = 0.0625\n",
      "5o termo 1/25 = 0.04\n",
      "6o termo 1/36 = 0.027777777777777776\n",
      "7o termo 1/49 = 0.02040816326530612\n",
      "8o termo 1/64 = 0.015625\n",
      "9o termo 1/81 = 0.012345679012345678\n",
      "10o termo 1/100 = 0.01\n",
      "1.5497677311665408\n"
     ]
    }
   ],
   "source": [
    "soma = 0 # Acumulador que representa a soma de todos os termos da série\n",
    "qtde = 0 # Inicialização do contador que conta a quantidade de termos calculados\n",
    "den = 0 # Inicialização da variável que representa o denominador\n",
    "termo = 1 # Inicialização do termo = 1 (para conseguir entrar no loop while)\n",
    "while (termo > 0.01):\n",
    "    qtde += 1 # Incrementa a quantidade de termos calculados na série\n",
    "    den = qtde ** 2 # Calcula o valor do denominador em relação à quantidade\n",
    "    termo = 1 / den\n",
    "    soma += termo # Acumula o valor do termo à soma\n",
    "    print(\"{}o termo {}/{} = {}\".format(qtde, 1, den, termo))    \n",
    "    \n",
    "print(soma)"
   ]
  },
  {
   "cell_type": "code",
   "execution_count": null,
   "metadata": {},
   "outputs": [],
   "source": []
  }
 ],
 "metadata": {
  "kernelspec": {
   "display_name": "Python 3",
   "language": "python",
   "name": "python3"
  },
  "language_info": {
   "codemirror_mode": {
    "name": "ipython",
    "version": 3
   },
   "file_extension": ".py",
   "mimetype": "text/x-python",
   "name": "python",
   "nbconvert_exporter": "python",
   "pygments_lexer": "ipython3",
   "version": "3.7.3"
  }
 },
 "nbformat": 4,
 "nbformat_minor": 2
}
