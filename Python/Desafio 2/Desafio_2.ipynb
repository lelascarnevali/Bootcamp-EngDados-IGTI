{
 "cells": [
  {
   "cell_type": "markdown",
   "id": "477df1e3-54eb-4a13-907f-7f926a17e66a",
   "metadata": {},
   "source": [
    "## Enunciado\n",
    "\n",
    "Neste trabalho prático utilizaremos o dataset presente no link a seguir:\n",
    "\n",
    "https://www.kaggle.com/datasets/ramjasmaurya/1-gb-internet-price\n",
    "\n",
    "Baixe o dataset antes de prosseguir, dentro do dataset existem 4 arquivos.  \n",
    "Nosso objetivo com esse desafio prático é simular uma das principais atividades no escopo da engenharia de dados e da engenharia de analíticas, que é o tratamento de bases de dados para o trabalho de analistas e cientistas de dados."
   ]
  },
  {
   "cell_type": "markdown",
   "id": "7761c617-8893-4981-9ac5-eba130be921c",
   "metadata": {},
   "source": [
    "#### 1.  \n",
    "Vamos criar uma classe para isso. Comece criando um método para abrir os arquivos e armazená-los como atributos da classe.  \n",
    "Para isso, abra os arquivos 'worldwide internet users - users.csv', 'worldwide internet prices in 2022 - IN 2022.csv' e 'worldwide internet speed in 2022 - avg speed.csv' usando PANDAS e os deixe armazenados em atributos: usuarios, precos e velocidades, respectivamente."
   ]
  },
  {
   "cell_type": "code",
   "execution_count": null,
   "id": "53f16695-1802-4158-8258-97d5d23073ac",
   "metadata": {},
   "outputs": [],
   "source": []
  },
  {
   "cell_type": "markdown",
   "id": "fe17a64c-24e7-42c7-a29d-dc5e2062338d",
   "metadata": {},
   "source": [
    "#### 2.\n",
    "\n",
    "Analise o shape e as colunas de cada um. Observe também o tipo de cada coluna e identifique qual é a coluna em comum entre os arquivos."
   ]
  },
  {
   "cell_type": "code",
   "execution_count": null,
   "id": "63df4b3a-3382-4f55-9ec0-1aed8fb7f174",
   "metadata": {},
   "outputs": [],
   "source": []
  },
  {
   "cell_type": "code",
   "execution_count": null,
   "id": "83bf7f7c-754d-4c0f-b8b7-6cf5e4bd9289",
   "metadata": {},
   "outputs": [],
   "source": []
  },
  {
   "cell_type": "markdown",
   "id": "130bae88-f8f7-4b8b-9ff7-e423f5fc0fec",
   "metadata": {},
   "source": [
    "#### 3.\n",
    "\n",
    "Escreva um método para unir os arquivos em um único arquivo, usando a coluna de nome do país com índice para unificá-los. Esse método não precisa de parâmetros, apesar de você poder fazê-lo recebendo a lista da coluna que é o nome do país de cada arquivo. Salve o dataframe unificado no atributo 'dados_unificados'."
   ]
  },
  {
   "cell_type": "code",
   "execution_count": null,
   "id": "0834014d-13cc-421e-bb59-6b9897402889",
   "metadata": {},
   "outputs": [],
   "source": []
  },
  {
   "cell_type": "markdown",
   "id": "3107ea67-e1c6-4b00-8aef-c100f33571ec",
   "metadata": {},
   "source": [
    "#### 4.\n",
    "\n",
    "Analise os dados faltantes em todas as colunas do atributo ‘dados_unificados’. Comece a criar um método de tratamento de dados e implemente nele a remoção dos itens que não possuírem informações sobre a população (NaN)."
   ]
  },
  {
   "cell_type": "code",
   "execution_count": null,
   "id": "4986ff51-7dac-430d-a2dc-4b0139a38be5",
   "metadata": {},
   "outputs": [],
   "source": []
  },
  {
   "cell_type": "markdown",
   "id": "31de30b7-56e5-485e-ab78-b24470d1225a",
   "metadata": {},
   "source": [
    "#### 5.\n",
    "\n",
    "Neste mesmo método, trate todas as colunas que possuem números para ficarem com tipos numéricos (use a função 'to_numeric' do Pandas). Juntamente com essa ação, remova os itens que tiverem dados textuais e NaN nessas colunas. Por enquanto, evite a coluna 'Avg \\n(Mbit/s)Ookla', iremos trabalhar com ela na sequência."
   ]
  },
  {
   "cell_type": "code",
   "execution_count": null,
   "id": "8d59e472-50e9-4f6b-8e4f-5f7d67db4aea",
   "metadata": {},
   "outputs": [],
   "source": []
  },
  {
   "cell_type": "markdown",
   "id": "117da943-25ae-4060-8bc2-d0e8f5cf4f43",
   "metadata": {},
   "source": [
    "#### 6.\n",
    "\n",
    "Agora que quase todas as colunas estão tratadas, precisamos tratar a coluna de média de velocidade. Para isso, vamos fazer alguns processos, simulando a atuação de um time de negócio que está responsável pela demanda da base de dados que estamos criando. Faça uma análise da quantidade de planos ('NO. OF Internet Plans') e implemente um método para criar uma coluna chamada 'AnaliseQuantidadePlanos' que recebe o texto ‘POUCO’ se a quantidade de planos for menor que a mediana ou 'MUITO' se a quantidade for maior ou igual a mediana."
   ]
  },
  {
   "cell_type": "code",
   "execution_count": null,
   "id": "0b08fd83-09b2-4e48-bb00-9b79120253d1",
   "metadata": {},
   "outputs": [],
   "source": []
  },
  {
   "cell_type": "markdown",
   "id": "e578e4cf-ab21-416a-bc1a-d332081e782e",
   "metadata": {},
   "source": [
    "#### 7.\n",
    "\n",
    "Faça uma análise do preço médio de 1GB ('Averagepriceof1GB(USD)') e implemente outro método para criar uma coluna chamada 'AnalisePrecoMedio' que recebe o texto 'BARATO' se o preço for menor que a mediana ou 'CARO' se o preço for maior ou igual a mediana."
   ]
  },
  {
   "cell_type": "code",
   "execution_count": null,
   "id": "513e6d1d-c749-4a76-aba8-c1d04de6854d",
   "metadata": {},
   "outputs": [],
   "source": []
  },
  {
   "cell_type": "markdown",
   "id": "c52c9a04-c31e-481c-9bf3-86fc0c1495db",
   "metadata": {},
   "source": [
    "#### 8.\n",
    "\n",
    "Por fim, crie um método que chame os outros dois métodos e que combine as colunas 'AnaliseQuantidadePlanos' e 'AnalisePrecoMedio' em uma nova coluna com o nome 'PerfilPlanoPreco' que será a concatenação do valor das duas colunas usadas."
   ]
  },
  {
   "cell_type": "code",
   "execution_count": null,
   "id": "f04ce2cb-7a3f-4768-9900-3cfef371f005",
   "metadata": {},
   "outputs": [],
   "source": []
  },
  {
   "cell_type": "markdown",
   "id": "5f28b165-8b44-4f0c-881d-9471ae80580f",
   "metadata": {},
   "source": [
    "#### 9.\n",
    "\n",
    "Com os métodos criados nas 3 atividades anteriores, implemente, volte no método de tratamento de dados e atribua um valor para a coluna de 'Avg \\n(Mbit/s)Ookla' nos casos em que ela esteja NaN. Para isso, usando os itens que possuem algum valor atribuído a essa coluna, calcule a mediana da coluna, separando por grupos. Cada grupo será um valor da coluna 'PerfilPlanoPreco'. A ideia aqui é atribuir ao valor da velocidade de um país a mediana das velocidades dos países que possuem o mesmo perfil de quantidade de planos e de preço de internet que ele."
   ]
  },
  {
   "cell_type": "code",
   "execution_count": null,
   "id": "2de1ebb0-7c3c-48fc-89a0-194c9a798b5d",
   "metadata": {},
   "outputs": [],
   "source": []
  },
  {
   "cell_type": "markdown",
   "id": "0b69b73a-7ab6-41ac-9d4f-a4fef034611c",
   "metadata": {},
   "source": [
    "#### 10.\n",
    "\n",
    "Os valores monetários até o momento estão em dólares americanos. Considerando a conversão de 1 dólar para 5 reais, crie um método que altere os valores das colunas que possuem valores financeiros para que elas fiquem com valores em reais. Lembre-se de chamá-lo no método de tratamento de dados."
   ]
  },
  {
   "cell_type": "code",
   "execution_count": null,
   "id": "b3d558be-405b-40db-8629-2fdc0857a2fd",
   "metadata": {},
   "outputs": [],
   "source": []
  },
  {
   "cell_type": "markdown",
   "id": "02916a53-da9e-4f40-bc58-51445ac0053f",
   "metadata": {},
   "source": [
    "#### 11.\n",
    "\n",
    "Pensando em facilitar a vida de quem vai utilizar esses dados, vamos renomear as colunas. Implemente um método que faça a renomeação das colunas conforme a indicação abaixo e adicione-o ao método de tratamento de dados.\n",
    "\n",
    ">_Country code: Codigo  \n",
    "Continental region: Regiao Continental  \n",
    "NO. OF Internet Plans : Numero de Planos  \n",
    "Average price of 1GB (USD): Preco medio de 1GB  \n",
    "Cheapest 1GB for 30 days (USD): 1GB mais barato  \n",
    "Most expensive 1GB (USD): 1GB mais caro  \n",
    "Average price of 1GB (USD at the start of 2021): Preco medio de 1GB desde 2021  \n",
    "Average price of 1GB (USD – at start of 2020): Preco medio de 1GB desde 2020  \n",
    "Subregion: Subcontinente  \n",
    "Region: Continente  \n",
    "Internet users: Numero de Usuarios  \n",
    "Population: Populacao  \n",
    "Avg \\n(Mbit/s)Ookla: Velocidade media  \n",
    "AnaliseQuantidadePlanos: Numero de Plano Qualitativo  \n",
    "AnalisePrecoMedio: Preco medio de 1GB Qualitativo  \n",
    "PerfilPlanoPreco: Perfil de Plano e Preco_"
   ]
  },
  {
   "cell_type": "markdown",
   "id": "6437e763-c87a-4b33-9fdc-baac99c0d16e",
   "metadata": {},
   "source": [
    "#### 12.\n",
    "\n",
    "Finalizando, crie um método para salvar (ou persistir) essa versão final dos dados. O método deve receber o nome do arquivo de saída e também um parâmetro indicando se os dados devem ser salvos em csv ou em pickle. Salve os dados em três versões:  \n",
    "<ol>\n",
    "    <li> CSV;</li> \n",
    "    <li> Pickle com a extensão \".pkl\";</li> \n",
    "    <li> Pickle com a extensão \".gz\".</li> \n",
    "</ol>"
   ]
  },
  {
   "cell_type": "markdown",
   "id": "726f5a3c-5299-4223-b41e-8a37979ce41d",
   "metadata": {},
   "source": []
  },
  {
   "cell_type": "code",
   "execution_count": null,
   "id": "ba750f1b-3037-4afb-9760-20d5eead80a3",
   "metadata": {},
   "outputs": [],
   "source": []
  },
  {
   "cell_type": "code",
   "execution_count": null,
   "id": "c8e07238-57aa-4305-b0a8-7c30da9211be",
   "metadata": {},
   "outputs": [],
   "source": []
  },
  {
   "cell_type": "code",
   "execution_count": null,
   "id": "6bb19424-4dbb-4889-ba88-4d84ab076136",
   "metadata": {},
   "outputs": [],
   "source": []
  }
 ],
 "metadata": {
  "kernelspec": {
   "display_name": "Python 3 (ipykernel)",
   "language": "python",
   "name": "python3"
  },
  "language_info": {
   "codemirror_mode": {
    "name": "ipython",
    "version": 3
   },
   "file_extension": ".py",
   "mimetype": "text/x-python",
   "name": "python",
   "nbconvert_exporter": "python",
   "pygments_lexer": "ipython3",
   "version": "3.9.12"
  }
 },
 "nbformat": 4,
 "nbformat_minor": 5
}
