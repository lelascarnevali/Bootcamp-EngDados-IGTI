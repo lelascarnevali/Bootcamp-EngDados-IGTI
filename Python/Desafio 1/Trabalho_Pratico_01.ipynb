{
 "cells": [
  {
   "cell_type": "markdown",
   "id": "46887176-b4d9-4af0-b192-fc6ffbd53c92",
   "metadata": {},
   "source": [
    "# Módulo 2 - Linguagem Python aplicada a Engenharia de Dados\n",
    "## Objetivos de Ensino\n",
    "\n",
    "Exercitar os seguintes conceitos trabalhados no Módulo:\n",
    "1. Tipos do Python;\n",
    "2. Variáveis e funções;\n",
    "3. Condicionais;\n",
    "4. Loops.\n",
    "\n",
    "## Enunciado\n",
    "\n",
    "Neste trabalho prático utilizaremos o dataset presente no link a seguir:\n",
    "https://www.kaggle.com/datasets/ramjasmaurya/1-gb-internet-price.\n",
    "Baixe o dataset antes de prosseguir.\n",
    "\n",
    "As atividades a seguir buscam exercitar os conceitos que foram apresentados no módulo\n",
    "a partir do cumprimento de objetivos práticos. Não existe uma forma única de resolver\n",
    "as atividades, mas ao buscar realizá-las, os conceitos serão automaticamente\n",
    "trabalhados."
   ]
  },
  {
   "cell_type": "markdown",
   "id": "c10d2635-cd6f-4ed5-bba3-a75be1a9a4d8",
   "metadata": {},
   "source": [
    "### Criando uma função para converter país em continente, a partir do arquivo de usuários:\n",
    "\n",
    "Arquivo de Usuários: 'worldwide internet users - users.csv';\n",
    "\n",
    "#### 1. Abra o arquivo de usuários usando pandas;\n",
    "\n",
    "Dica:\n",
    "https://pandas.pydata.org/docs/reference/api/pandas.read_csv.html."
   ]
  },
  {
   "cell_type": "code",
   "execution_count": 1,
   "id": "0a209b48-6b99-463a-a45d-6e9a17d6e1c2",
   "metadata": {},
   "outputs": [],
   "source": [
    "import pandas as pd"
   ]
  },
  {
   "cell_type": "code",
   "execution_count": 2,
   "id": "dcee29b5-bd19-4513-9654-156eb340aaff",
   "metadata": {},
   "outputs": [],
   "source": [
    "dataset = pd.read_csv(\"data/worldwide internet users - users.csv\")"
   ]
  },
  {
   "cell_type": "code",
   "execution_count": 3,
   "id": "56920085-af3d-4cf1-abbe-85c3858bf684",
   "metadata": {},
   "outputs": [
    {
     "data": {
      "text/html": [
       "<div>\n",
       "<style scoped>\n",
       "    .dataframe tbody tr th:only-of-type {\n",
       "        vertical-align: middle;\n",
       "    }\n",
       "\n",
       "    .dataframe tbody tr th {\n",
       "        vertical-align: top;\n",
       "    }\n",
       "\n",
       "    .dataframe thead th {\n",
       "        text-align: right;\n",
       "    }\n",
       "</style>\n",
       "<table border=\"1\" class=\"dataframe\">\n",
       "  <thead>\n",
       "    <tr style=\"text-align: right;\">\n",
       "      <th></th>\n",
       "      <th>Country or area</th>\n",
       "      <th>Subregion</th>\n",
       "      <th>Region</th>\n",
       "      <th>Internet users</th>\n",
       "      <th>Population</th>\n",
       "    </tr>\n",
       "  </thead>\n",
       "  <tbody>\n",
       "    <tr>\n",
       "      <th>209</th>\n",
       "      <td>Saint Helena, Ascension and Tristan da Cunha</td>\n",
       "      <td>Western Africa</td>\n",
       "      <td>Africa</td>\n",
       "      <td>2,906</td>\n",
       "      <td>6,035</td>\n",
       "    </tr>\n",
       "    <tr>\n",
       "      <th>210</th>\n",
       "      <td>Falkland Islands</td>\n",
       "      <td>South America</td>\n",
       "      <td>Americas</td>\n",
       "      <td>2,881</td>\n",
       "      <td>3,234</td>\n",
       "    </tr>\n",
       "    <tr>\n",
       "      <th>211</th>\n",
       "      <td>Montserrat</td>\n",
       "      <td>Caribbean</td>\n",
       "      <td>Americas</td>\n",
       "      <td>2,833</td>\n",
       "      <td>4,993</td>\n",
       "    </tr>\n",
       "    <tr>\n",
       "      <th>212</th>\n",
       "      <td>Wallis and Futuna</td>\n",
       "      <td>Polynesia</td>\n",
       "      <td>Oceania</td>\n",
       "      <td>1,383</td>\n",
       "      <td>11,661</td>\n",
       "    </tr>\n",
       "    <tr>\n",
       "      <th>213</th>\n",
       "      <td>Niue</td>\n",
       "      <td>Polynesia</td>\n",
       "      <td>Oceania</td>\n",
       "      <td>1,034</td>\n",
       "      <td>1,620</td>\n",
       "    </tr>\n",
       "  </tbody>\n",
       "</table>\n",
       "</div>"
      ],
      "text/plain": [
       "                                  Country or area       Subregion    Region  \\\n",
       "209  Saint Helena, Ascension and Tristan da Cunha  Western Africa    Africa   \n",
       "210                              Falkland Islands   South America  Americas   \n",
       "211                                    Montserrat       Caribbean  Americas   \n",
       "212                             Wallis and Futuna       Polynesia   Oceania   \n",
       "213                                          Niue       Polynesia   Oceania   \n",
       "\n",
       "    Internet users Population  \n",
       "209          2,906      6,035  \n",
       "210          2,881      3,234  \n",
       "211          2,833      4,993  \n",
       "212          1,383     11,661  \n",
       "213          1,034      1,620  "
      ]
     },
     "execution_count": 3,
     "metadata": {},
     "output_type": "execute_result"
    }
   ],
   "source": [
    "dataset.tail(5)"
   ]
  },
  {
   "cell_type": "markdown",
   "id": "5a1a4423-cd27-41a4-a14a-8b598f4779e9",
   "metadata": {},
   "source": [
    "#### 2. Crie um dicionário chamado “mapeamento_continente”;"
   ]
  },
  {
   "cell_type": "code",
   "execution_count": 4,
   "id": "8c6c3dec-8698-46ac-8b04-1bf68875b1f1",
   "metadata": {},
   "outputs": [],
   "source": [
    "mapeamento_continente = {}"
   ]
  },
  {
   "cell_type": "code",
   "execution_count": 5,
   "id": "d1605037-dca4-41f6-a59f-cab199695d9a",
   "metadata": {},
   "outputs": [
    {
     "data": {
      "text/plain": [
       "dict"
      ]
     },
     "execution_count": 5,
     "metadata": {},
     "output_type": "execute_result"
    }
   ],
   "source": [
    "type(mapeamento_continente)"
   ]
  },
  {
   "cell_type": "markdown",
   "id": "74fd003e-7836-4d4d-a17c-994bbbf61253",
   "metadata": {},
   "source": [
    "#### 3. Crie uma função \"mapear\"\n",
    "\n",
    "O método recebe um pandas DataFrame e o nome de duas colunas desse\n",
    "dataframe (Uma representa o país, outro o continente). Ele percorre duas colunas\n",
    "em conjunto, inserindo 'mapeamento_continente' uma chave para cada país, com\n",
    "valor sendo o continente;\n",
    "\n",
    "Dicas:\n",
    "* https://docs.python.org/3.3/library/functions.html#zip     \n",
    "* https://pandas.pydata.org/docs/reference/api/pandas.Series.tolist.html."
   ]
  },
  {
   "cell_type": "code",
   "execution_count": 6,
   "id": "57cebc2a-1408-4694-b652-97d929fa05bb",
   "metadata": {
    "tags": []
   },
   "outputs": [],
   "source": [
    "list_map = dataset[['Country or area', 'Region']].values.tolist()"
   ]
  },
  {
   "cell_type": "code",
   "execution_count": 7,
   "id": "61c55051-2b29-4f32-ae0d-24df84cc906e",
   "metadata": {},
   "outputs": [],
   "source": [
    "mapeamento_continente = dict(map(lambda x: (x[0], x[1]), list_map))"
   ]
  },
  {
   "cell_type": "code",
   "execution_count": 8,
   "id": "d92250a0-51d6-4d28-8c7e-44b53238eaca",
   "metadata": {},
   "outputs": [
    {
     "name": "stdout",
     "output_type": "stream",
     "text": [
      "Asia\n"
     ]
    }
   ],
   "source": [
    "\"\"\"Trazendo um valor através de uma chave\"\"\"\n",
    "print(mapeamento_continente.get('China'))"
   ]
  },
  {
   "cell_type": "code",
   "execution_count": 9,
   "id": "5a5f6bda-380c-4104-9190-df23c965b083",
   "metadata": {},
   "outputs": [
    {
     "data": {
      "text/plain": [
       "{'China': 'Asia',\n",
       " 'India': 'Asia',\n",
       " 'United States': 'Americas',\n",
       " 'Indonesia': 'Asia',\n",
       " 'Brazil': 'Americas',\n",
       " 'Nigeria': 'Africa',\n",
       " 'Bangladesh': 'Asia',\n",
       " 'Russia': 'Europe',\n",
       " 'Pakistan': 'Asia',\n",
       " 'Japan': 'Asia'}"
      ]
     },
     "execution_count": 9,
     "metadata": {},
     "output_type": "execute_result"
    }
   ],
   "source": [
    "\"\"\"Exibindo os 10 primeiros items\"\"\"\n",
    "\n",
    "dict(list(mapeamento_continente.items())[:10])"
   ]
  },
  {
   "cell_type": "markdown",
   "id": "628f0c17-d843-4b92-9297-977eab958c98",
   "metadata": {},
   "source": [
    "#### 4. Crie uma função 'retorna_continente':\n",
    "\n",
    "* Que retorna o continente a partir do nome do país, recebido como um parâmetro;\n",
    "* Que use o dicionário 'mapeamento_continente';\n",
    "*  Que use o bloco try/except para lidar com países que não existam dentro do dicionário de mapeamento. Nesses casos, o método deve retornar None e printar a mensagem \"Não existe esse país em nossa base\"."
   ]
  },
  {
   "cell_type": "code",
   "execution_count": 10,
   "id": "3dd0cba4-8216-4980-bbcf-646cb3df1246",
   "metadata": {},
   "outputs": [],
   "source": [
    "def retorna_continente(pais):\n",
    "    try:\n",
    "        x = mapeamento_continente[pais]\n",
    "    except:\n",
    "        x = None\n",
    "        print('Não existe esse país em nossa base')\n",
    "    return x\n",
    "\n"
   ]
  },
  {
   "cell_type": "code",
   "execution_count": 11,
   "id": "f8c52b5c-fad4-42ff-99b7-807d237f2f53",
   "metadata": {},
   "outputs": [
    {
     "data": {
      "text/plain": [
       "'Americas'"
      ]
     },
     "execution_count": 11,
     "metadata": {},
     "output_type": "execute_result"
    }
   ],
   "source": [
    "retorna_continente('Brazil')"
   ]
  },
  {
   "cell_type": "code",
   "execution_count": 12,
   "id": "1e110c34-e4c9-4abe-853d-55be6e29fc83",
   "metadata": {},
   "outputs": [
    {
     "data": {
      "text/plain": [
       "'Africa'"
      ]
     },
     "execution_count": 12,
     "metadata": {},
     "output_type": "execute_result"
    }
   ],
   "source": [
    "retorna_continente('Congo')"
   ]
  },
  {
   "cell_type": "code",
   "execution_count": 13,
   "id": "1dd4a2f2-0f1f-4442-9fa2-42a00e8e3797",
   "metadata": {},
   "outputs": [
    {
     "name": "stdout",
     "output_type": "stream",
     "text": [
      "Não existe esse país em nossa base\n",
      "None\n"
     ]
    }
   ],
   "source": [
    "print(retorna_continente('Banana'))"
   ]
  },
  {
   "cell_type": "code",
   "execution_count": 14,
   "id": "4950f9bb-d2d8-42d2-9b36-7508ba9bbce2",
   "metadata": {},
   "outputs": [
    {
     "name": "stdout",
     "output_type": "stream",
     "text": [
      "Americas\n",
      "Asia\n",
      "Asia\n",
      "Asia\n",
      "Oceania\n"
     ]
    }
   ],
   "source": [
    "lista = ['Brazil', 'Israel', 'China', 'Kyrgyzstan', 'Australia']\n",
    "\n",
    "for i in lista:\n",
    "    print(retorna_continente(i))"
   ]
  },
  {
   "cell_type": "code",
   "execution_count": 15,
   "id": "70d6d58e-6704-4e1e-afe6-d9b64edbe7ab",
   "metadata": {},
   "outputs": [
    {
     "name": "stdout",
     "output_type": "stream",
     "text": [
      "Não existe esse país em nossa base\n",
      "None\n",
      "Não existe esse país em nossa base\n",
      "None\n",
      "Não existe esse país em nossa base\n",
      "None\n",
      "Não existe esse país em nossa base\n",
      "None\n",
      "Não existe esse país em nossa base\n",
      "None\n",
      "Asia\n"
     ]
    }
   ],
   "source": [
    "lista = ['Hong Kong', 'Puerto Rico', 'Ivory Coast', 'Macau, Kosovo', 'DR Congo', 'Palestine']\n",
    "\n",
    "for i in lista:\n",
    "    print(retorna_continente(i))"
   ]
  },
  {
   "cell_type": "markdown",
   "id": "5353c26c-c10e-4d8b-a0a6-c1b792125a64",
   "metadata": {},
   "source": [
    "### Adicionando a informação de continente na tabela de velocidades, a partir do mapeamento do arquivo de usuários;\n",
    "\n",
    "Arquivo de velocidades: 'worldwide internet speed in 2022 - avg speed.csv'.\n",
    "\n",
    "#### 1. Abra o arquivo de velocidades usando pandas;\n",
    "\n",
    " Armazene em uma variável do tipo Pandas Dataframe."
   ]
  },
  {
   "cell_type": "code",
   "execution_count": 16,
   "id": "6533cb45-ab72-40de-bf1a-6cfa1fbb4733",
   "metadata": {},
   "outputs": [],
   "source": [
    "speed = pd.read_csv(\"data/worldwide internet speed in 2022  - avg speed.csv\")"
   ]
  },
  {
   "cell_type": "code",
   "execution_count": 17,
   "id": "8544cb91-9c80-47bf-881c-fd9dd586c418",
   "metadata": {},
   "outputs": [
    {
     "data": {
      "text/html": [
       "<div>\n",
       "<style scoped>\n",
       "    .dataframe tbody tr th:only-of-type {\n",
       "        vertical-align: middle;\n",
       "    }\n",
       "\n",
       "    .dataframe tbody tr th {\n",
       "        vertical-align: top;\n",
       "    }\n",
       "\n",
       "    .dataframe thead th {\n",
       "        text-align: right;\n",
       "    }\n",
       "</style>\n",
       "<table border=\"1\" class=\"dataframe\">\n",
       "  <thead>\n",
       "    <tr style=\"text-align: right;\">\n",
       "      <th></th>\n",
       "      <th>Country</th>\n",
       "      <th>Avg \\n(Mbit/s)Ookla</th>\n",
       "    </tr>\n",
       "  </thead>\n",
       "  <tbody>\n",
       "    <tr>\n",
       "      <th>0</th>\n",
       "      <td>Canada</td>\n",
       "      <td>75.18</td>\n",
       "    </tr>\n",
       "    <tr>\n",
       "      <th>1</th>\n",
       "      <td>South Korea</td>\n",
       "      <td>117.95</td>\n",
       "    </tr>\n",
       "    <tr>\n",
       "      <th>2</th>\n",
       "      <td>Netherlands</td>\n",
       "      <td>108.33</td>\n",
       "    </tr>\n",
       "    <tr>\n",
       "      <th>3</th>\n",
       "      <td>Japan</td>\n",
       "      <td>44.05</td>\n",
       "    </tr>\n",
       "    <tr>\n",
       "      <th>4</th>\n",
       "      <td>Norway</td>\n",
       "      <td>134.73</td>\n",
       "    </tr>\n",
       "  </tbody>\n",
       "</table>\n",
       "</div>"
      ],
      "text/plain": [
       "       Country  Avg \\n(Mbit/s)Ookla\n",
       "0       Canada                75.18\n",
       "1  South Korea               117.95\n",
       "2  Netherlands               108.33\n",
       "3        Japan                44.05\n",
       "4       Norway               134.73"
      ]
     },
     "execution_count": 17,
     "metadata": {},
     "output_type": "execute_result"
    }
   ],
   "source": [
    "speed.head(5)"
   ]
  },
  {
   "cell_type": "markdown",
   "id": "91e6e3ba-7fe7-41ab-833a-4c705aa39e61",
   "metadata": {},
   "source": [
    "#### 2. Adicione uma nova coluna 'Continente' ao DataFrame\n",
    "\n",
    "Use a função 'mapa_pais_Continente'.\n",
    "\n",
    "Dicas:\n",
    "* https://stackoverflow.com/questions/33518124/how-toapply-a-function-on-every-row-on-a-dataframe\n",
    "* https://pandas.pydata.org/pandasdocs/stable/reference/api/pandas.DataFrame.apply.html\n",
    "* https://pandas.pydata.org/docs/getting_started/intro_tutorials/05_add_columns.htmlb"
   ]
  },
  {
   "cell_type": "code",
   "execution_count": 18,
   "id": "b18bd4b7-93d7-4e2a-a7a9-43231c25795a",
   "metadata": {},
   "outputs": [
    {
     "name": "stdout",
     "output_type": "stream",
     "text": [
      "Não existe esse país em nossa base\n",
      "Não existe esse país em nossa base\n",
      "Não existe esse país em nossa base\n",
      "Não existe esse país em nossa base\n",
      "Não existe esse país em nossa base\n",
      "Não existe esse país em nossa base\n"
     ]
    }
   ],
   "source": [
    "speed['Region'] = speed.apply(lambda row: retorna_continente(row['Country']), axis=1)"
   ]
  },
  {
   "cell_type": "code",
   "execution_count": 19,
   "id": "3db88430-e396-4f7d-830c-f0e9770b58b5",
   "metadata": {},
   "outputs": [
    {
     "data": {
      "text/html": [
       "<div>\n",
       "<style scoped>\n",
       "    .dataframe tbody tr th:only-of-type {\n",
       "        vertical-align: middle;\n",
       "    }\n",
       "\n",
       "    .dataframe tbody tr th {\n",
       "        vertical-align: top;\n",
       "    }\n",
       "\n",
       "    .dataframe thead th {\n",
       "        text-align: right;\n",
       "    }\n",
       "</style>\n",
       "<table border=\"1\" class=\"dataframe\">\n",
       "  <thead>\n",
       "    <tr style=\"text-align: right;\">\n",
       "      <th></th>\n",
       "      <th>Country</th>\n",
       "      <th>Avg \\n(Mbit/s)Ookla</th>\n",
       "      <th>Region</th>\n",
       "    </tr>\n",
       "  </thead>\n",
       "  <tbody>\n",
       "    <tr>\n",
       "      <th>0</th>\n",
       "      <td>Canada</td>\n",
       "      <td>75.18</td>\n",
       "      <td>Americas</td>\n",
       "    </tr>\n",
       "    <tr>\n",
       "      <th>1</th>\n",
       "      <td>South Korea</td>\n",
       "      <td>117.95</td>\n",
       "      <td>Asia</td>\n",
       "    </tr>\n",
       "    <tr>\n",
       "      <th>2</th>\n",
       "      <td>Netherlands</td>\n",
       "      <td>108.33</td>\n",
       "      <td>Europe</td>\n",
       "    </tr>\n",
       "    <tr>\n",
       "      <th>3</th>\n",
       "      <td>Japan</td>\n",
       "      <td>44.05</td>\n",
       "      <td>Asia</td>\n",
       "    </tr>\n",
       "    <tr>\n",
       "      <th>4</th>\n",
       "      <td>Norway</td>\n",
       "      <td>134.73</td>\n",
       "      <td>Europe</td>\n",
       "    </tr>\n",
       "    <tr>\n",
       "      <th>...</th>\n",
       "      <td>...</td>\n",
       "      <td>...</td>\n",
       "      <td>...</td>\n",
       "    </tr>\n",
       "    <tr>\n",
       "      <th>139</th>\n",
       "      <td>Sudan</td>\n",
       "      <td>9.50</td>\n",
       "      <td>Africa</td>\n",
       "    </tr>\n",
       "    <tr>\n",
       "      <th>140</th>\n",
       "      <td>Cuba</td>\n",
       "      <td>9.10</td>\n",
       "      <td>Americas</td>\n",
       "    </tr>\n",
       "    <tr>\n",
       "      <th>141</th>\n",
       "      <td>Tajikistan</td>\n",
       "      <td>7.05</td>\n",
       "      <td>Asia</td>\n",
       "    </tr>\n",
       "    <tr>\n",
       "      <th>142</th>\n",
       "      <td>Venezuela</td>\n",
       "      <td>5.68</td>\n",
       "      <td>Americas</td>\n",
       "    </tr>\n",
       "    <tr>\n",
       "      <th>143</th>\n",
       "      <td>Palestine</td>\n",
       "      <td>4.89</td>\n",
       "      <td>Asia</td>\n",
       "    </tr>\n",
       "  </tbody>\n",
       "</table>\n",
       "<p>144 rows × 3 columns</p>\n",
       "</div>"
      ],
      "text/plain": [
       "         Country  Avg \\n(Mbit/s)Ookla    Region\n",
       "0         Canada                75.18  Americas\n",
       "1    South Korea               117.95      Asia\n",
       "2    Netherlands               108.33    Europe\n",
       "3          Japan                44.05      Asia\n",
       "4         Norway               134.73    Europe\n",
       "..           ...                  ...       ...\n",
       "139        Sudan                 9.50    Africa\n",
       "140         Cuba                 9.10  Americas\n",
       "141   Tajikistan                 7.05      Asia\n",
       "142    Venezuela                 5.68  Americas\n",
       "143    Palestine                 4.89      Asia\n",
       "\n",
       "[144 rows x 3 columns]"
      ]
     },
     "execution_count": 19,
     "metadata": {},
     "output_type": "execute_result"
    }
   ],
   "source": [
    "speed"
   ]
  },
  {
   "cell_type": "code",
   "execution_count": 20,
   "id": "ca3d04d6-d7ae-4919-986c-95b22604dd27",
   "metadata": {},
   "outputs": [
    {
     "data": {
      "text/plain": [
       "array(['Americas', 'Asia', 'Europe', 'Oceania', None, 'Africa'],\n",
       "      dtype=object)"
      ]
     },
     "execution_count": 20,
     "metadata": {},
     "output_type": "execute_result"
    }
   ],
   "source": [
    "speed['Region'].unique()"
   ]
  },
  {
   "cell_type": "code",
   "execution_count": 21,
   "id": "455d31a0-667e-4ba2-a4ec-edfd2af50b5e",
   "metadata": {},
   "outputs": [
    {
     "data": {
      "text/html": [
       "<div>\n",
       "<style scoped>\n",
       "    .dataframe tbody tr th:only-of-type {\n",
       "        vertical-align: middle;\n",
       "    }\n",
       "\n",
       "    .dataframe tbody tr th {\n",
       "        vertical-align: top;\n",
       "    }\n",
       "\n",
       "    .dataframe thead th {\n",
       "        text-align: right;\n",
       "    }\n",
       "</style>\n",
       "<table border=\"1\" class=\"dataframe\">\n",
       "  <thead>\n",
       "    <tr style=\"text-align: right;\">\n",
       "      <th></th>\n",
       "      <th>Country</th>\n",
       "      <th>Avg \\n(Mbit/s)Ookla</th>\n",
       "      <th>Region</th>\n",
       "    </tr>\n",
       "  </thead>\n",
       "  <tbody>\n",
       "    <tr>\n",
       "      <th>36</th>\n",
       "      <td>Hong Kong</td>\n",
       "      <td>47.34</td>\n",
       "      <td>None</td>\n",
       "    </tr>\n",
       "    <tr>\n",
       "      <th>47</th>\n",
       "      <td>Puerto Rico</td>\n",
       "      <td>NaN</td>\n",
       "      <td>None</td>\n",
       "    </tr>\n",
       "    <tr>\n",
       "      <th>90</th>\n",
       "      <td>Ivory Coast</td>\n",
       "      <td>9.92</td>\n",
       "      <td>None</td>\n",
       "    </tr>\n",
       "    <tr>\n",
       "      <th>106</th>\n",
       "      <td>Macau</td>\n",
       "      <td>50.16</td>\n",
       "      <td>None</td>\n",
       "    </tr>\n",
       "    <tr>\n",
       "      <th>118</th>\n",
       "      <td>Kosovo</td>\n",
       "      <td>24.63</td>\n",
       "      <td>None</td>\n",
       "    </tr>\n",
       "    <tr>\n",
       "      <th>136</th>\n",
       "      <td>DR Congo</td>\n",
       "      <td>12.08</td>\n",
       "      <td>None</td>\n",
       "    </tr>\n",
       "  </tbody>\n",
       "</table>\n",
       "</div>"
      ],
      "text/plain": [
       "         Country  Avg \\n(Mbit/s)Ookla Region\n",
       "36     Hong Kong                47.34   None\n",
       "47   Puerto Rico                  NaN   None\n",
       "90   Ivory Coast                 9.92   None\n",
       "106        Macau                50.16   None\n",
       "118       Kosovo                24.63   None\n",
       "136     DR Congo                12.08   None"
      ]
     },
     "execution_count": 21,
     "metadata": {},
     "output_type": "execute_result"
    }
   ],
   "source": [
    "\"\"\"Busca dos paises que não possuem continente cadastrado\"\"\"\n",
    "speed[(speed['Region'].isnull())]"
   ]
  },
  {
   "cell_type": "code",
   "execution_count": 22,
   "id": "3acf4461-0179-4313-912e-d2c1be84913c",
   "metadata": {},
   "outputs": [
    {
     "data": {
      "text/plain": [
       "36.36727272727273"
      ]
     },
     "execution_count": 22,
     "metadata": {},
     "output_type": "execute_result"
    }
   ],
   "source": [
    "speed['Avg \\n(Mbit/s)Ookla'].dropna().mean()"
   ]
  },
  {
   "cell_type": "code",
   "execution_count": 23,
   "id": "80eef02b-3d57-42aa-bc93-c99d41f61fe5",
   "metadata": {},
   "outputs": [
    {
     "data": {
      "text/plain": [
       "Region\n",
       "Africa      17.95\n",
       "Americas    20.67\n",
       "Asia        24.06\n",
       "Europe      49.66\n",
       "Oceania     49.49\n",
       "Name: Avg \\n(Mbit/s)Ookla, dtype: float64"
      ]
     },
     "execution_count": 23,
     "metadata": {},
     "output_type": "execute_result"
    }
   ],
   "source": [
    "speed.dropna().groupby(['Region'])['Avg \\n(Mbit/s)Ookla'].median()"
   ]
  },
  {
   "cell_type": "code",
   "execution_count": 24,
   "id": "7975cde7-0fa0-43ad-971f-a5831f45a9db",
   "metadata": {},
   "outputs": [],
   "source": [
    "speed_europe = speed.dropna().loc[speed['Region']=='Europe']"
   ]
  },
  {
   "cell_type": "code",
   "execution_count": 25,
   "id": "0f721329-6156-4d27-999f-d7e12069cb9e",
   "metadata": {},
   "outputs": [
    {
     "data": {
      "text/html": [
       "<div>\n",
       "<style scoped>\n",
       "    .dataframe tbody tr th:only-of-type {\n",
       "        vertical-align: middle;\n",
       "    }\n",
       "\n",
       "    .dataframe tbody tr th {\n",
       "        vertical-align: top;\n",
       "    }\n",
       "\n",
       "    .dataframe thead th {\n",
       "        text-align: right;\n",
       "    }\n",
       "</style>\n",
       "<table border=\"1\" class=\"dataframe\">\n",
       "  <thead>\n",
       "    <tr style=\"text-align: right;\">\n",
       "      <th></th>\n",
       "      <th>Country</th>\n",
       "      <th>Avg \\n(Mbit/s)Ookla</th>\n",
       "      <th>Region</th>\n",
       "    </tr>\n",
       "  </thead>\n",
       "  <tbody>\n",
       "    <tr>\n",
       "      <th>13</th>\n",
       "      <td>Lithuania</td>\n",
       "      <td>50.13</td>\n",
       "      <td>Europe</td>\n",
       "    </tr>\n",
       "  </tbody>\n",
       "</table>\n",
       "</div>"
      ],
      "text/plain": [
       "      Country  Avg \\n(Mbit/s)Ookla  Region\n",
       "13  Lithuania                50.13  Europe"
      ]
     },
     "execution_count": 25,
     "metadata": {},
     "output_type": "execute_result"
    }
   ],
   "source": [
    "speed_europe.loc[speed_europe['Avg \\n(Mbit/s)Ookla'] > 49.66].sort_values(by=['Avg \\n(Mbit/s)Ookla'], ascending=True).head(1)"
   ]
  },
  {
   "cell_type": "markdown",
   "id": "174cf94a-8fa6-4152-b567-7252fd015059",
   "metadata": {},
   "source": [
    "### Trabalhando com os dados de usuários de Internet;\n",
    "\n",
    "Voltando ao arquivo de Usuários: 'worldwide internet users - users.csv'.\n",
    "\n",
    "#### 1. Abra o arquivo de usuários de internet novamente\n",
    "\n",
    "Dica:\n",
    "* https://pandas.pydata.org/docs/reference/api/pandas.read_csv.html"
   ]
  },
  {
   "cell_type": "code",
   "execution_count": 26,
   "id": "169436a7-3657-4ca2-ba30-43f38d6b36fc",
   "metadata": {},
   "outputs": [],
   "source": [
    "users = pd.read_csv(\"data/worldwide internet users - users.csv\")"
   ]
  },
  {
   "cell_type": "markdown",
   "id": "b1d2f7c5-b808-4fef-b06e-4ac0ab99c170",
   "metadata": {},
   "source": [
    "#### 2. Crie novas colunas do tipo 'int' para as colunas 'Population' e 'Internet users';\n",
    "\n",
    "Dicas:\n",
    "* Existem valores faltantes na base, sendo necessário filtrar antes de fazer a criação das novas colunas. "
   ]
  },
  {
   "cell_type": "code",
   "execution_count": 27,
   "id": "baf78880-f95b-42ae-99bc-3f59da1bf84c",
   "metadata": {},
   "outputs": [],
   "source": [
    "users_clean = users.dropna()"
   ]
  },
  {
   "cell_type": "code",
   "execution_count": 28,
   "id": "1d7d6489-d9d4-4038-bb7e-75b326fc6e98",
   "metadata": {},
   "outputs": [],
   "source": [
    "import warnings\n",
    "warnings.filterwarnings('ignore')"
   ]
  },
  {
   "cell_type": "code",
   "execution_count": 29,
   "id": "3ee1f039-e553-4e9a-a4db-aa5cd61c2bf6",
   "metadata": {},
   "outputs": [],
   "source": [
    "users_clean['Internet users'] = users_clean['Internet users'].str.replace(',', '').astype(int)\n",
    "users_clean['Population'] = users_clean['Population'].str.replace(',', '').astype(int)"
   ]
  },
  {
   "cell_type": "code",
   "execution_count": 30,
   "id": "7cc2f4b5-af11-444b-ba0b-50e4c6e172df",
   "metadata": {},
   "outputs": [
    {
     "data": {
      "text/html": [
       "<div>\n",
       "<style scoped>\n",
       "    .dataframe tbody tr th:only-of-type {\n",
       "        vertical-align: middle;\n",
       "    }\n",
       "\n",
       "    .dataframe tbody tr th {\n",
       "        vertical-align: top;\n",
       "    }\n",
       "\n",
       "    .dataframe thead th {\n",
       "        text-align: right;\n",
       "    }\n",
       "</style>\n",
       "<table border=\"1\" class=\"dataframe\">\n",
       "  <thead>\n",
       "    <tr style=\"text-align: right;\">\n",
       "      <th></th>\n",
       "      <th>Country or area</th>\n",
       "      <th>Subregion</th>\n",
       "      <th>Region</th>\n",
       "      <th>Internet users</th>\n",
       "      <th>Population</th>\n",
       "    </tr>\n",
       "  </thead>\n",
       "  <tbody>\n",
       "    <tr>\n",
       "      <th>0</th>\n",
       "      <td>China</td>\n",
       "      <td>Eastern Asia</td>\n",
       "      <td>Asia</td>\n",
       "      <td>1010740000</td>\n",
       "      <td>1427647786</td>\n",
       "    </tr>\n",
       "    <tr>\n",
       "      <th>1</th>\n",
       "      <td>India</td>\n",
       "      <td>Southern Asia</td>\n",
       "      <td>Asia</td>\n",
       "      <td>833710000</td>\n",
       "      <td>1352642280</td>\n",
       "    </tr>\n",
       "    <tr>\n",
       "      <th>2</th>\n",
       "      <td>United States</td>\n",
       "      <td>Northern America</td>\n",
       "      <td>Americas</td>\n",
       "      <td>312320000</td>\n",
       "      <td>327096265</td>\n",
       "    </tr>\n",
       "    <tr>\n",
       "      <th>3</th>\n",
       "      <td>Indonesia</td>\n",
       "      <td>South-eastern Asia</td>\n",
       "      <td>Asia</td>\n",
       "      <td>196000000</td>\n",
       "      <td>267670543</td>\n",
       "    </tr>\n",
       "    <tr>\n",
       "      <th>4</th>\n",
       "      <td>Brazil</td>\n",
       "      <td>South America</td>\n",
       "      <td>Americas</td>\n",
       "      <td>160010801</td>\n",
       "      <td>209469323</td>\n",
       "    </tr>\n",
       "    <tr>\n",
       "      <th>...</th>\n",
       "      <td>...</td>\n",
       "      <td>...</td>\n",
       "      <td>...</td>\n",
       "      <td>...</td>\n",
       "      <td>...</td>\n",
       "    </tr>\n",
       "    <tr>\n",
       "      <th>209</th>\n",
       "      <td>Saint Helena, Ascension and Tristan da Cunha</td>\n",
       "      <td>Western Africa</td>\n",
       "      <td>Africa</td>\n",
       "      <td>2906</td>\n",
       "      <td>6035</td>\n",
       "    </tr>\n",
       "    <tr>\n",
       "      <th>210</th>\n",
       "      <td>Falkland Islands</td>\n",
       "      <td>South America</td>\n",
       "      <td>Americas</td>\n",
       "      <td>2881</td>\n",
       "      <td>3234</td>\n",
       "    </tr>\n",
       "    <tr>\n",
       "      <th>211</th>\n",
       "      <td>Montserrat</td>\n",
       "      <td>Caribbean</td>\n",
       "      <td>Americas</td>\n",
       "      <td>2833</td>\n",
       "      <td>4993</td>\n",
       "    </tr>\n",
       "    <tr>\n",
       "      <th>212</th>\n",
       "      <td>Wallis and Futuna</td>\n",
       "      <td>Polynesia</td>\n",
       "      <td>Oceania</td>\n",
       "      <td>1383</td>\n",
       "      <td>11661</td>\n",
       "    </tr>\n",
       "    <tr>\n",
       "      <th>213</th>\n",
       "      <td>Niue</td>\n",
       "      <td>Polynesia</td>\n",
       "      <td>Oceania</td>\n",
       "      <td>1034</td>\n",
       "      <td>1620</td>\n",
       "    </tr>\n",
       "  </tbody>\n",
       "</table>\n",
       "<p>212 rows × 5 columns</p>\n",
       "</div>"
      ],
      "text/plain": [
       "                                  Country or area           Subregion  \\\n",
       "0                                           China        Eastern Asia   \n",
       "1                                           India       Southern Asia   \n",
       "2                                   United States    Northern America   \n",
       "3                                       Indonesia  South-eastern Asia   \n",
       "4                                          Brazil       South America   \n",
       "..                                            ...                 ...   \n",
       "209  Saint Helena, Ascension and Tristan da Cunha      Western Africa   \n",
       "210                              Falkland Islands       South America   \n",
       "211                                    Montserrat           Caribbean   \n",
       "212                             Wallis and Futuna           Polynesia   \n",
       "213                                          Niue           Polynesia   \n",
       "\n",
       "       Region  Internet users  Population  \n",
       "0        Asia      1010740000  1427647786  \n",
       "1        Asia       833710000  1352642280  \n",
       "2    Americas       312320000   327096265  \n",
       "3        Asia       196000000   267670543  \n",
       "4    Americas       160010801   209469323  \n",
       "..        ...             ...         ...  \n",
       "209    Africa            2906        6035  \n",
       "210  Americas            2881        3234  \n",
       "211  Americas            2833        4993  \n",
       "212   Oceania            1383       11661  \n",
       "213   Oceania            1034        1620  \n",
       "\n",
       "[212 rows x 5 columns]"
      ]
     },
     "execution_count": 30,
     "metadata": {},
     "output_type": "execute_result"
    }
   ],
   "source": [
    "users_clean"
   ]
  },
  {
   "cell_type": "code",
   "execution_count": 31,
   "id": "20bc5e67-445d-45cd-9c6f-1a8529924a03",
   "metadata": {},
   "outputs": [
    {
     "data": {
      "text/html": [
       "<div>\n",
       "<style scoped>\n",
       "    .dataframe tbody tr th:only-of-type {\n",
       "        vertical-align: middle;\n",
       "    }\n",
       "\n",
       "    .dataframe tbody tr th {\n",
       "        vertical-align: top;\n",
       "    }\n",
       "\n",
       "    .dataframe thead th {\n",
       "        text-align: right;\n",
       "    }\n",
       "</style>\n",
       "<table border=\"1\" class=\"dataframe\">\n",
       "  <thead>\n",
       "    <tr style=\"text-align: right;\">\n",
       "      <th></th>\n",
       "      <th>Country or area</th>\n",
       "      <th>Subregion</th>\n",
       "      <th>Region</th>\n",
       "      <th>Internet users</th>\n",
       "      <th>Population</th>\n",
       "    </tr>\n",
       "  </thead>\n",
       "  <tbody>\n",
       "    <tr>\n",
       "      <th>0</th>\n",
       "      <td>China</td>\n",
       "      <td>Eastern Asia</td>\n",
       "      <td>Asia</td>\n",
       "      <td>1,010,740,000</td>\n",
       "      <td>1,427,647,786</td>\n",
       "    </tr>\n",
       "    <tr>\n",
       "      <th>1</th>\n",
       "      <td>India</td>\n",
       "      <td>Southern Asia</td>\n",
       "      <td>Asia</td>\n",
       "      <td>833,710,000</td>\n",
       "      <td>1,352,642,280</td>\n",
       "    </tr>\n",
       "    <tr>\n",
       "      <th>2</th>\n",
       "      <td>United States</td>\n",
       "      <td>Northern America</td>\n",
       "      <td>Americas</td>\n",
       "      <td>312,320,000</td>\n",
       "      <td>327,096,265</td>\n",
       "    </tr>\n",
       "    <tr>\n",
       "      <th>3</th>\n",
       "      <td>Indonesia</td>\n",
       "      <td>South-eastern Asia</td>\n",
       "      <td>Asia</td>\n",
       "      <td>196,000,000</td>\n",
       "      <td>267,670,543</td>\n",
       "    </tr>\n",
       "    <tr>\n",
       "      <th>4</th>\n",
       "      <td>Brazil</td>\n",
       "      <td>South America</td>\n",
       "      <td>Americas</td>\n",
       "      <td>160,010,801</td>\n",
       "      <td>209,469,323</td>\n",
       "    </tr>\n",
       "    <tr>\n",
       "      <th>...</th>\n",
       "      <td>...</td>\n",
       "      <td>...</td>\n",
       "      <td>...</td>\n",
       "      <td>...</td>\n",
       "      <td>...</td>\n",
       "    </tr>\n",
       "    <tr>\n",
       "      <th>209</th>\n",
       "      <td>Saint Helena, Ascension and Tristan da Cunha</td>\n",
       "      <td>Western Africa</td>\n",
       "      <td>Africa</td>\n",
       "      <td>2,906</td>\n",
       "      <td>6,035</td>\n",
       "    </tr>\n",
       "    <tr>\n",
       "      <th>210</th>\n",
       "      <td>Falkland Islands</td>\n",
       "      <td>South America</td>\n",
       "      <td>Americas</td>\n",
       "      <td>2,881</td>\n",
       "      <td>3,234</td>\n",
       "    </tr>\n",
       "    <tr>\n",
       "      <th>211</th>\n",
       "      <td>Montserrat</td>\n",
       "      <td>Caribbean</td>\n",
       "      <td>Americas</td>\n",
       "      <td>2,833</td>\n",
       "      <td>4,993</td>\n",
       "    </tr>\n",
       "    <tr>\n",
       "      <th>212</th>\n",
       "      <td>Wallis and Futuna</td>\n",
       "      <td>Polynesia</td>\n",
       "      <td>Oceania</td>\n",
       "      <td>1,383</td>\n",
       "      <td>11,661</td>\n",
       "    </tr>\n",
       "    <tr>\n",
       "      <th>213</th>\n",
       "      <td>Niue</td>\n",
       "      <td>Polynesia</td>\n",
       "      <td>Oceania</td>\n",
       "      <td>1,034</td>\n",
       "      <td>1,620</td>\n",
       "    </tr>\n",
       "  </tbody>\n",
       "</table>\n",
       "<p>214 rows × 5 columns</p>\n",
       "</div>"
      ],
      "text/plain": [
       "                                  Country or area           Subregion  \\\n",
       "0                                           China        Eastern Asia   \n",
       "1                                           India       Southern Asia   \n",
       "2                                   United States    Northern America   \n",
       "3                                       Indonesia  South-eastern Asia   \n",
       "4                                          Brazil       South America   \n",
       "..                                            ...                 ...   \n",
       "209  Saint Helena, Ascension and Tristan da Cunha      Western Africa   \n",
       "210                              Falkland Islands       South America   \n",
       "211                                    Montserrat           Caribbean   \n",
       "212                             Wallis and Futuna           Polynesia   \n",
       "213                                          Niue           Polynesia   \n",
       "\n",
       "       Region Internet users     Population  \n",
       "0        Asia  1,010,740,000  1,427,647,786  \n",
       "1        Asia    833,710,000  1,352,642,280  \n",
       "2    Americas    312,320,000    327,096,265  \n",
       "3        Asia    196,000,000    267,670,543  \n",
       "4    Americas    160,010,801    209,469,323  \n",
       "..        ...            ...            ...  \n",
       "209    Africa          2,906          6,035  \n",
       "210  Americas          2,881          3,234  \n",
       "211  Americas          2,833          4,993  \n",
       "212   Oceania          1,383         11,661  \n",
       "213   Oceania          1,034          1,620  \n",
       "\n",
       "[214 rows x 5 columns]"
      ]
     },
     "execution_count": 31,
     "metadata": {},
     "output_type": "execute_result"
    }
   ],
   "source": [
    "users"
   ]
  },
  {
   "cell_type": "code",
   "execution_count": 32,
   "id": "c8a0fa13-11e0-4889-bd03-c1092a8210a8",
   "metadata": {},
   "outputs": [
    {
     "data": {
      "text/html": [
       "<div>\n",
       "<style scoped>\n",
       "    .dataframe tbody tr th:only-of-type {\n",
       "        vertical-align: middle;\n",
       "    }\n",
       "\n",
       "    .dataframe tbody tr th {\n",
       "        vertical-align: top;\n",
       "    }\n",
       "\n",
       "    .dataframe thead th {\n",
       "        text-align: right;\n",
       "    }\n",
       "</style>\n",
       "<table border=\"1\" class=\"dataframe\">\n",
       "  <thead>\n",
       "    <tr style=\"text-align: right;\">\n",
       "      <th></th>\n",
       "      <th>Country or area</th>\n",
       "      <th>Subregion</th>\n",
       "      <th>Region</th>\n",
       "      <th>Internet users</th>\n",
       "      <th>Population</th>\n",
       "    </tr>\n",
       "  </thead>\n",
       "  <tbody>\n",
       "    <tr>\n",
       "      <th>0</th>\n",
       "      <td>China</td>\n",
       "      <td>Eastern Asia</td>\n",
       "      <td>Asia</td>\n",
       "      <td>1010740000</td>\n",
       "      <td>1427647786</td>\n",
       "    </tr>\n",
       "  </tbody>\n",
       "</table>\n",
       "</div>"
      ],
      "text/plain": [
       "  Country or area     Subregion Region  Internet users  Population\n",
       "0           China  Eastern Asia   Asia      1010740000  1427647786"
      ]
     },
     "execution_count": 32,
     "metadata": {},
     "output_type": "execute_result"
    }
   ],
   "source": [
    "users_clean.sort_values(by=['Internet users'], ascending=False).head(1)"
   ]
  },
  {
   "cell_type": "code",
   "execution_count": 33,
   "id": "a845bcd6-c227-441a-8bc7-fb1ccc52243c",
   "metadata": {},
   "outputs": [
    {
     "data": {
      "text/html": [
       "<div>\n",
       "<style scoped>\n",
       "    .dataframe tbody tr th:only-of-type {\n",
       "        vertical-align: middle;\n",
       "    }\n",
       "\n",
       "    .dataframe tbody tr th {\n",
       "        vertical-align: top;\n",
       "    }\n",
       "\n",
       "    .dataframe thead th {\n",
       "        text-align: right;\n",
       "    }\n",
       "</style>\n",
       "<table border=\"1\" class=\"dataframe\">\n",
       "  <thead>\n",
       "    <tr style=\"text-align: right;\">\n",
       "      <th></th>\n",
       "      <th>Country or area</th>\n",
       "      <th>Subregion</th>\n",
       "      <th>Region</th>\n",
       "      <th>Internet users</th>\n",
       "      <th>Population</th>\n",
       "    </tr>\n",
       "  </thead>\n",
       "  <tbody>\n",
       "    <tr>\n",
       "      <th>0</th>\n",
       "      <td>China</td>\n",
       "      <td>Eastern Asia</td>\n",
       "      <td>Asia</td>\n",
       "      <td>1010740000</td>\n",
       "      <td>1427647786</td>\n",
       "    </tr>\n",
       "  </tbody>\n",
       "</table>\n",
       "</div>"
      ],
      "text/plain": [
       "  Country or area     Subregion Region  Internet users  Population\n",
       "0           China  Eastern Asia   Asia      1010740000  1427647786"
      ]
     },
     "execution_count": 33,
     "metadata": {},
     "output_type": "execute_result"
    }
   ],
   "source": [
    "users_clean.sort_values(by=['Population'], ascending=False).head(1)"
   ]
  },
  {
   "cell_type": "code",
   "execution_count": 34,
   "id": "fa4cca63-ad0a-4e0d-bfd8-81b77d0d41b4",
   "metadata": {},
   "outputs": [
    {
     "data": {
      "text/html": [
       "<div>\n",
       "<style scoped>\n",
       "    .dataframe tbody tr th:only-of-type {\n",
       "        vertical-align: middle;\n",
       "    }\n",
       "\n",
       "    .dataframe tbody tr th {\n",
       "        vertical-align: top;\n",
       "    }\n",
       "\n",
       "    .dataframe thead th {\n",
       "        text-align: right;\n",
       "    }\n",
       "</style>\n",
       "<table border=\"1\" class=\"dataframe\">\n",
       "  <thead>\n",
       "    <tr style=\"text-align: right;\">\n",
       "      <th></th>\n",
       "      <th>Country or area</th>\n",
       "      <th>Subregion</th>\n",
       "      <th>Region</th>\n",
       "      <th>Internet users</th>\n",
       "      <th>Population</th>\n",
       "    </tr>\n",
       "  </thead>\n",
       "  <tbody>\n",
       "    <tr>\n",
       "      <th>98</th>\n",
       "      <td>Palestine</td>\n",
       "      <td>Western Asia</td>\n",
       "      <td>Asia</td>\n",
       "      <td>3,208,312</td>\n",
       "      <td>NaN</td>\n",
       "    </tr>\n",
       "    <tr>\n",
       "      <th>197</th>\n",
       "      <td>Jersey</td>\n",
       "      <td>Northern Europe</td>\n",
       "      <td>Europe</td>\n",
       "      <td>38,958</td>\n",
       "      <td>NaN</td>\n",
       "    </tr>\n",
       "  </tbody>\n",
       "</table>\n",
       "</div>"
      ],
      "text/plain": [
       "    Country or area        Subregion  Region Internet users Population\n",
       "98        Palestine     Western Asia    Asia      3,208,312        NaN\n",
       "197          Jersey  Northern Europe  Europe         38,958        NaN"
      ]
     },
     "execution_count": 34,
     "metadata": {},
     "output_type": "execute_result"
    }
   ],
   "source": [
    "users.loc[users['Country or area'].isin(['Jersey', 'Palestine'])]"
   ]
  },
  {
   "cell_type": "code",
   "execution_count": 35,
   "id": "838c57a8-3694-4043-b5f1-ccb5624ea24b",
   "metadata": {},
   "outputs": [
    {
     "data": {
      "text/html": [
       "<div>\n",
       "<style scoped>\n",
       "    .dataframe tbody tr th:only-of-type {\n",
       "        vertical-align: middle;\n",
       "    }\n",
       "\n",
       "    .dataframe tbody tr th {\n",
       "        vertical-align: top;\n",
       "    }\n",
       "\n",
       "    .dataframe thead th {\n",
       "        text-align: right;\n",
       "    }\n",
       "</style>\n",
       "<table border=\"1\" class=\"dataframe\">\n",
       "  <thead>\n",
       "    <tr style=\"text-align: right;\">\n",
       "      <th></th>\n",
       "      <th>Country or area</th>\n",
       "      <th>Subregion</th>\n",
       "      <th>Region</th>\n",
       "      <th>Internet users</th>\n",
       "      <th>Population</th>\n",
       "    </tr>\n",
       "  </thead>\n",
       "  <tbody>\n",
       "    <tr>\n",
       "      <th>213</th>\n",
       "      <td>Niue</td>\n",
       "      <td>Polynesia</td>\n",
       "      <td>Oceania</td>\n",
       "      <td>1034</td>\n",
       "      <td>1620</td>\n",
       "    </tr>\n",
       "    <tr>\n",
       "      <th>212</th>\n",
       "      <td>Wallis and Futuna</td>\n",
       "      <td>Polynesia</td>\n",
       "      <td>Oceania</td>\n",
       "      <td>1383</td>\n",
       "      <td>11661</td>\n",
       "    </tr>\n",
       "    <tr>\n",
       "      <th>211</th>\n",
       "      <td>Montserrat</td>\n",
       "      <td>Caribbean</td>\n",
       "      <td>Americas</td>\n",
       "      <td>2833</td>\n",
       "      <td>4993</td>\n",
       "    </tr>\n",
       "  </tbody>\n",
       "</table>\n",
       "</div>"
      ],
      "text/plain": [
       "       Country or area  Subregion    Region  Internet users  Population\n",
       "213               Niue  Polynesia   Oceania            1034        1620\n",
       "212  Wallis and Futuna  Polynesia   Oceania            1383       11661\n",
       "211         Montserrat  Caribbean  Americas            2833        4993"
      ]
     },
     "execution_count": 35,
     "metadata": {},
     "output_type": "execute_result"
    }
   ],
   "source": [
    "users_clean.sort_values(by=['Internet users']).head(3)"
   ]
  },
  {
   "cell_type": "code",
   "execution_count": 36,
   "id": "1ee5f41e-9f8c-4674-af71-007f8ca1528a",
   "metadata": {},
   "outputs": [],
   "source": [
    "users_clean['Proporção'] = users_clean.dropna()['Internet users']/users_clean.dropna()['Population']"
   ]
  },
  {
   "cell_type": "code",
   "execution_count": 37,
   "id": "d6be7d94-72ad-42b8-bba2-369a560f7816",
   "metadata": {},
   "outputs": [
    {
     "data": {
      "text/plain": [
       "0.5769808132214845"
      ]
     },
     "execution_count": 37,
     "metadata": {},
     "output_type": "execute_result"
    }
   ],
   "source": [
    "users_clean['Proporção'].mean()"
   ]
  },
  {
   "cell_type": "code",
   "execution_count": 38,
   "id": "a3626486-8526-4801-8727-f55d5d290206",
   "metadata": {},
   "outputs": [
    {
     "data": {
      "text/plain": [
       "0.2859591920439063"
      ]
     },
     "execution_count": 38,
     "metadata": {},
     "output_type": "execute_result"
    }
   ],
   "source": [
    "users_clean['Proporção'].std()"
   ]
  },
  {
   "cell_type": "code",
   "execution_count": 39,
   "id": "9d5d3ba1-8803-4475-a1f2-180f0e0d7e1e",
   "metadata": {},
   "outputs": [
    {
     "data": {
      "text/plain": [
       "0.652577812025155"
      ]
     },
     "execution_count": 39,
     "metadata": {},
     "output_type": "execute_result"
    }
   ],
   "source": [
    "users_clean.dropna()['Internet users'].sum()/users_clean.dropna()['Population'].sum()"
   ]
  },
  {
   "cell_type": "code",
   "execution_count": 40,
   "id": "9f93c89a-fe41-41ac-89eb-8681d03c010a",
   "metadata": {},
   "outputs": [],
   "source": [
    "users_region = pd.DataFrame(users_clean.dropna().groupby(['Region'])['Internet users'].sum())"
   ]
  },
  {
   "cell_type": "code",
   "execution_count": 41,
   "id": "56d2c376-36f1-4342-8bdc-d2675a8193fe",
   "metadata": {},
   "outputs": [],
   "source": [
    "users_region['Population'] = users_clean.dropna().groupby(['Region'])['Population'].sum()"
   ]
  },
  {
   "cell_type": "code",
   "execution_count": 42,
   "id": "ffa1fd0d-c9d0-45ca-a518-a9cb9a50bc53",
   "metadata": {},
   "outputs": [],
   "source": [
    "users_region['Proporção'] = users_region['Internet users']/users_region['Population']"
   ]
  },
  {
   "cell_type": "code",
   "execution_count": 43,
   "id": "f2fe95a4-3230-46ae-aaaf-2151ef249f08",
   "metadata": {},
   "outputs": [],
   "source": [
    "users_region['Desvio Padrão'] = users_clean.dropna().groupby(['Region'])['Internet users'].std()"
   ]
  },
  {
   "cell_type": "code",
   "execution_count": 44,
   "id": "14c18d40-6885-4d29-b883-6f6486ed89e1",
   "metadata": {},
   "outputs": [
    {
     "data": {
      "text/html": [
       "<div>\n",
       "<style scoped>\n",
       "    .dataframe tbody tr th:only-of-type {\n",
       "        vertical-align: middle;\n",
       "    }\n",
       "\n",
       "    .dataframe tbody tr th {\n",
       "        vertical-align: top;\n",
       "    }\n",
       "\n",
       "    .dataframe thead th {\n",
       "        text-align: right;\n",
       "    }\n",
       "</style>\n",
       "<table border=\"1\" class=\"dataframe\">\n",
       "  <thead>\n",
       "    <tr style=\"text-align: right;\">\n",
       "      <th></th>\n",
       "      <th>Internet users</th>\n",
       "      <th>Population</th>\n",
       "      <th>Proporção</th>\n",
       "      <th>Desvio Padrão</th>\n",
       "    </tr>\n",
       "    <tr>\n",
       "      <th>Region</th>\n",
       "      <th></th>\n",
       "      <th></th>\n",
       "      <th></th>\n",
       "      <th></th>\n",
       "    </tr>\n",
       "  </thead>\n",
       "  <tbody>\n",
       "    <tr>\n",
       "      <th>Africa</th>\n",
       "      <td>454544709</td>\n",
       "      <td>1274211524</td>\n",
       "      <td>0.356726</td>\n",
       "      <td>2.029732e+07</td>\n",
       "    </tr>\n",
       "    <tr>\n",
       "      <th>Americas</th>\n",
       "      <td>779914800</td>\n",
       "      <td>1007904873</td>\n",
       "      <td>0.773798</td>\n",
       "      <td>5.278599e+07</td>\n",
       "    </tr>\n",
       "    <tr>\n",
       "      <th>Asia</th>\n",
       "      <td>2989569687</td>\n",
       "      <td>4454369227</td>\n",
       "      <td>0.671154</td>\n",
       "      <td>1.867243e+08</td>\n",
       "    </tr>\n",
       "    <tr>\n",
       "      <th>Europe</th>\n",
       "      <td>712027666</td>\n",
       "      <td>828504151</td>\n",
       "      <td>0.859414</td>\n",
       "      <td>2.616988e+07</td>\n",
       "    </tr>\n",
       "    <tr>\n",
       "      <th>Oceania</th>\n",
       "      <td>27718529</td>\n",
       "      <td>41421751</td>\n",
       "      <td>0.669178</td>\n",
       "      <td>4.997015e+06</td>\n",
       "    </tr>\n",
       "  </tbody>\n",
       "</table>\n",
       "</div>"
      ],
      "text/plain": [
       "          Internet users  Population  Proporção  Desvio Padrão\n",
       "Region                                                        \n",
       "Africa         454544709  1274211524   0.356726   2.029732e+07\n",
       "Americas       779914800  1007904873   0.773798   5.278599e+07\n",
       "Asia          2989569687  4454369227   0.671154   1.867243e+08\n",
       "Europe         712027666   828504151   0.859414   2.616988e+07\n",
       "Oceania         27718529    41421751   0.669178   4.997015e+06"
      ]
     },
     "execution_count": 44,
     "metadata": {},
     "output_type": "execute_result"
    }
   ],
   "source": [
    "users_region"
   ]
  },
  {
   "cell_type": "code",
   "execution_count": 45,
   "id": "29577e46-56dc-4399-8b9e-f9c0add58eae",
   "metadata": {},
   "outputs": [
    {
     "data": {
      "text/html": [
       "<div>\n",
       "<style scoped>\n",
       "    .dataframe tbody tr th:only-of-type {\n",
       "        vertical-align: middle;\n",
       "    }\n",
       "\n",
       "    .dataframe tbody tr th {\n",
       "        vertical-align: top;\n",
       "    }\n",
       "\n",
       "    .dataframe thead th {\n",
       "        text-align: right;\n",
       "    }\n",
       "</style>\n",
       "<table border=\"1\" class=\"dataframe\">\n",
       "  <thead>\n",
       "    <tr style=\"text-align: right;\">\n",
       "      <th></th>\n",
       "      <th>Country or area</th>\n",
       "      <th>Subregion</th>\n",
       "      <th>Region</th>\n",
       "      <th>Internet users</th>\n",
       "      <th>Population</th>\n",
       "    </tr>\n",
       "  </thead>\n",
       "  <tbody>\n",
       "    <tr>\n",
       "      <th>132</th>\n",
       "      <td>Estonia</td>\n",
       "      <td>Northern Europe</td>\n",
       "      <td>Europe</td>\n",
       "      <td>1,153,786</td>\n",
       "      <td>1,322,920</td>\n",
       "    </tr>\n",
       "  </tbody>\n",
       "</table>\n",
       "</div>"
      ],
      "text/plain": [
       "    Country or area        Subregion  Region Internet users Population\n",
       "132         Estonia  Northern Europe  Europe      1,153,786  1,322,920"
      ]
     },
     "execution_count": 45,
     "metadata": {},
     "output_type": "execute_result"
    }
   ],
   "source": [
    "users.loc[users['Region']=='Europe'].sort_values(by=['Internet users'], ascending=True).head(1)"
   ]
  },
  {
   "cell_type": "code",
   "execution_count": 46,
   "id": "81153e88-f45a-4198-bf14-09bbbd2ef63b",
   "metadata": {},
   "outputs": [
    {
     "data": {
      "text/html": [
       "<div>\n",
       "<style scoped>\n",
       "    .dataframe tbody tr th:only-of-type {\n",
       "        vertical-align: middle;\n",
       "    }\n",
       "\n",
       "    .dataframe tbody tr th {\n",
       "        vertical-align: top;\n",
       "    }\n",
       "\n",
       "    .dataframe thead th {\n",
       "        text-align: right;\n",
       "    }\n",
       "</style>\n",
       "<table border=\"1\" class=\"dataframe\">\n",
       "  <thead>\n",
       "    <tr style=\"text-align: right;\">\n",
       "      <th></th>\n",
       "      <th>Country or area</th>\n",
       "      <th>Subregion</th>\n",
       "      <th>Region</th>\n",
       "      <th>Internet users</th>\n",
       "      <th>Population</th>\n",
       "    </tr>\n",
       "  </thead>\n",
       "  <tbody>\n",
       "    <tr>\n",
       "      <th>137</th>\n",
       "      <td>Chad</td>\n",
       "      <td>Middle Africa</td>\n",
       "      <td>Africa</td>\n",
       "      <td>968,500</td>\n",
       "      <td>15,477,729</td>\n",
       "    </tr>\n",
       "  </tbody>\n",
       "</table>\n",
       "</div>"
      ],
      "text/plain": [
       "    Country or area      Subregion  Region Internet users  Population\n",
       "137            Chad  Middle Africa  Africa        968,500  15,477,729"
      ]
     },
     "execution_count": 46,
     "metadata": {},
     "output_type": "execute_result"
    }
   ],
   "source": [
    "users.loc[users['Region']=='Africa'].sort_values(by=['Internet users'], ascending=False).head(1)"
   ]
  },
  {
   "cell_type": "code",
   "execution_count": 47,
   "id": "4e6635ee-235c-4303-9b8c-87409d851502",
   "metadata": {},
   "outputs": [
    {
     "data": {
      "text/html": [
       "<div>\n",
       "<style scoped>\n",
       "    .dataframe tbody tr th:only-of-type {\n",
       "        vertical-align: middle;\n",
       "    }\n",
       "\n",
       "    .dataframe tbody tr th {\n",
       "        vertical-align: top;\n",
       "    }\n",
       "\n",
       "    .dataframe thead th {\n",
       "        text-align: right;\n",
       "    }\n",
       "</style>\n",
       "<table border=\"1\" class=\"dataframe\">\n",
       "  <thead>\n",
       "    <tr style=\"text-align: right;\">\n",
       "      <th></th>\n",
       "      <th>Country or area</th>\n",
       "      <th>Subregion</th>\n",
       "      <th>Region</th>\n",
       "      <th>Internet users</th>\n",
       "      <th>Population</th>\n",
       "      <th>Proporção</th>\n",
       "    </tr>\n",
       "  </thead>\n",
       "  <tbody>\n",
       "    <tr>\n",
       "      <th>2</th>\n",
       "      <td>United States</td>\n",
       "      <td>Northern America</td>\n",
       "      <td>Americas</td>\n",
       "      <td>312320000</td>\n",
       "      <td>327096265</td>\n",
       "      <td>0.954826</td>\n",
       "    </tr>\n",
       "    <tr>\n",
       "      <th>9</th>\n",
       "      <td>Japan</td>\n",
       "      <td>Eastern Asia</td>\n",
       "      <td>Asia</td>\n",
       "      <td>117400000</td>\n",
       "      <td>127202192</td>\n",
       "      <td>0.922940</td>\n",
       "    </tr>\n",
       "    <tr>\n",
       "      <th>11</th>\n",
       "      <td>Iran</td>\n",
       "      <td>Western Asia</td>\n",
       "      <td>Asia</td>\n",
       "      <td>78086663</td>\n",
       "      <td>81800188</td>\n",
       "      <td>0.954602</td>\n",
       "    </tr>\n",
       "    <tr>\n",
       "      <th>12</th>\n",
       "      <td>Germany</td>\n",
       "      <td>Western Europe</td>\n",
       "      <td>Europe</td>\n",
       "      <td>77794405</td>\n",
       "      <td>83124418</td>\n",
       "      <td>0.935879</td>\n",
       "    </tr>\n",
       "    <tr>\n",
       "      <th>16</th>\n",
       "      <td>United Kingdom</td>\n",
       "      <td>Northern Europe</td>\n",
       "      <td>Europe</td>\n",
       "      <td>65001016</td>\n",
       "      <td>67141684</td>\n",
       "      <td>0.968117</td>\n",
       "    </tr>\n",
       "    <tr>\n",
       "      <th>17</th>\n",
       "      <td>France</td>\n",
       "      <td>Western Europe</td>\n",
       "      <td>Europe</td>\n",
       "      <td>59470000</td>\n",
       "      <td>64990511</td>\n",
       "      <td>0.915057</td>\n",
       "    </tr>\n",
       "    <tr>\n",
       "      <th>19</th>\n",
       "      <td>South Korea</td>\n",
       "      <td>Eastern Asia</td>\n",
       "      <td>Asia</td>\n",
       "      <td>49421084</td>\n",
       "      <td>51171706</td>\n",
       "      <td>0.965789</td>\n",
       "    </tr>\n",
       "    <tr>\n",
       "      <th>20</th>\n",
       "      <td>Spain</td>\n",
       "      <td>Southern Europe</td>\n",
       "      <td>Europe</td>\n",
       "      <td>42400756</td>\n",
       "      <td>46692858</td>\n",
       "      <td>0.908078</td>\n",
       "    </tr>\n",
       "    <tr>\n",
       "      <th>23</th>\n",
       "      <td>Poland</td>\n",
       "      <td>Eastern Europe</td>\n",
       "      <td>Europe</td>\n",
       "      <td>34697848</td>\n",
       "      <td>37921592</td>\n",
       "      <td>0.914989</td>\n",
       "    </tr>\n",
       "    <tr>\n",
       "      <th>24</th>\n",
       "      <td>Canada</td>\n",
       "      <td>Northern America</td>\n",
       "      <td>Americas</td>\n",
       "      <td>33950632</td>\n",
       "      <td>37064562</td>\n",
       "      <td>0.915986</td>\n",
       "    </tr>\n",
       "    <tr>\n",
       "      <th>33</th>\n",
       "      <td>Taiwan</td>\n",
       "      <td>Eastern Asia</td>\n",
       "      <td>Asia</td>\n",
       "      <td>21920626</td>\n",
       "      <td>23726460</td>\n",
       "      <td>0.923889</td>\n",
       "    </tr>\n",
       "    <tr>\n",
       "      <th>40</th>\n",
       "      <td>Netherlands</td>\n",
       "      <td>Western Europe</td>\n",
       "      <td>Europe</td>\n",
       "      <td>15877494</td>\n",
       "      <td>17059560</td>\n",
       "      <td>0.930709</td>\n",
       "    </tr>\n",
       "    <tr>\n",
       "      <th>50</th>\n",
       "      <td>Sweden</td>\n",
       "      <td>Northern Europe</td>\n",
       "      <td>Europe</td>\n",
       "      <td>9554907</td>\n",
       "      <td>9971638</td>\n",
       "      <td>0.958208</td>\n",
       "    </tr>\n",
       "    <tr>\n",
       "      <th>53</th>\n",
       "      <td>United Arab Emirates</td>\n",
       "      <td>Western Asia</td>\n",
       "      <td>Asia</td>\n",
       "      <td>8913217</td>\n",
       "      <td>9630959</td>\n",
       "      <td>0.925476</td>\n",
       "    </tr>\n",
       "    <tr>\n",
       "      <th>56</th>\n",
       "      <td>Switzerland</td>\n",
       "      <td>Western Europe</td>\n",
       "      <td>Europe</td>\n",
       "      <td>7942864</td>\n",
       "      <td>8525611</td>\n",
       "      <td>0.931647</td>\n",
       "    </tr>\n",
       "    <tr>\n",
       "      <th>78</th>\n",
       "      <td>Denmark</td>\n",
       "      <td>Northern Europe</td>\n",
       "      <td>Europe</td>\n",
       "      <td>5407278</td>\n",
       "      <td>5752126</td>\n",
       "      <td>0.940049</td>\n",
       "    </tr>\n",
       "    <tr>\n",
       "      <th>80</th>\n",
       "      <td>Norway</td>\n",
       "      <td>Northern Europe</td>\n",
       "      <td>Europe</td>\n",
       "      <td>5120225</td>\n",
       "      <td>5337962</td>\n",
       "      <td>0.959210</td>\n",
       "    </tr>\n",
       "    <tr>\n",
       "      <th>90</th>\n",
       "      <td>New Zealand</td>\n",
       "      <td>Australia, New Zealand</td>\n",
       "      <td>Oceania</td>\n",
       "      <td>4273353</td>\n",
       "      <td>4743131</td>\n",
       "      <td>0.900956</td>\n",
       "    </tr>\n",
       "    <tr>\n",
       "      <th>94</th>\n",
       "      <td>Kuwait</td>\n",
       "      <td>Western Asia</td>\n",
       "      <td>Asia</td>\n",
       "      <td>4053797</td>\n",
       "      <td>4137312</td>\n",
       "      <td>0.979814</td>\n",
       "    </tr>\n",
       "    <tr>\n",
       "      <th>106</th>\n",
       "      <td>Qatar</td>\n",
       "      <td>Western Asia</td>\n",
       "      <td>Asia</td>\n",
       "      <td>2532059</td>\n",
       "      <td>2781682</td>\n",
       "      <td>0.910262</td>\n",
       "    </tr>\n",
       "    <tr>\n",
       "      <th>127</th>\n",
       "      <td>Bahrain</td>\n",
       "      <td>Western Asia</td>\n",
       "      <td>Asia</td>\n",
       "      <td>1431090</td>\n",
       "      <td>1569446</td>\n",
       "      <td>0.911844</td>\n",
       "    </tr>\n",
       "    <tr>\n",
       "      <th>148</th>\n",
       "      <td>Luxembourg</td>\n",
       "      <td>Western Europe</td>\n",
       "      <td>Europe</td>\n",
       "      <td>570794</td>\n",
       "      <td>604245</td>\n",
       "      <td>0.944640</td>\n",
       "    </tr>\n",
       "    <tr>\n",
       "      <th>156</th>\n",
       "      <td>Brunei</td>\n",
       "      <td>South-eastern Asia</td>\n",
       "      <td>Asia</td>\n",
       "      <td>406705</td>\n",
       "      <td>428963</td>\n",
       "      <td>0.948112</td>\n",
       "    </tr>\n",
       "    <tr>\n",
       "      <th>163</th>\n",
       "      <td>Iceland</td>\n",
       "      <td>Northern Europe</td>\n",
       "      <td>Europe</td>\n",
       "      <td>329196</td>\n",
       "      <td>336713</td>\n",
       "      <td>0.977675</td>\n",
       "    </tr>\n",
       "    <tr>\n",
       "      <th>175</th>\n",
       "      <td>Aruba (Netherlands)</td>\n",
       "      <td>Caribbean</td>\n",
       "      <td>Americas</td>\n",
       "      <td>102285</td>\n",
       "      <td>105845</td>\n",
       "      <td>0.966366</td>\n",
       "    </tr>\n",
       "    <tr>\n",
       "      <th>178</th>\n",
       "      <td>Andorra</td>\n",
       "      <td>Southern Europe</td>\n",
       "      <td>Europe</td>\n",
       "      <td>76095</td>\n",
       "      <td>77006</td>\n",
       "      <td>0.988170</td>\n",
       "    </tr>\n",
       "    <tr>\n",
       "      <th>189</th>\n",
       "      <td>Bermuda</td>\n",
       "      <td>Northern America</td>\n",
       "      <td>Americas</td>\n",
       "      <td>60349</td>\n",
       "      <td>62756</td>\n",
       "      <td>0.961645</td>\n",
       "    </tr>\n",
       "    <tr>\n",
       "      <th>193</th>\n",
       "      <td>Faroe Islands</td>\n",
       "      <td>Northern Europe</td>\n",
       "      <td>Europe</td>\n",
       "      <td>48097</td>\n",
       "      <td>48497</td>\n",
       "      <td>0.991752</td>\n",
       "    </tr>\n",
       "    <tr>\n",
       "      <th>198</th>\n",
       "      <td>Monaco</td>\n",
       "      <td>Western Europe</td>\n",
       "      <td>Europe</td>\n",
       "      <td>37553</td>\n",
       "      <td>38682</td>\n",
       "      <td>0.970813</td>\n",
       "    </tr>\n",
       "    <tr>\n",
       "      <th>200</th>\n",
       "      <td>Liechtenstein</td>\n",
       "      <td>Western Europe</td>\n",
       "      <td>Europe</td>\n",
       "      <td>37201</td>\n",
       "      <td>37910</td>\n",
       "      <td>0.981298</td>\n",
       "    </tr>\n",
       "    <tr>\n",
       "      <th>201</th>\n",
       "      <td>Gibraltar</td>\n",
       "      <td>Southern Europe</td>\n",
       "      <td>Europe</td>\n",
       "      <td>32494</td>\n",
       "      <td>33718</td>\n",
       "      <td>0.963699</td>\n",
       "    </tr>\n",
       "  </tbody>\n",
       "</table>\n",
       "</div>"
      ],
      "text/plain": [
       "          Country or area               Subregion    Region  Internet users  \\\n",
       "2           United States        Northern America  Americas       312320000   \n",
       "9                   Japan            Eastern Asia      Asia       117400000   \n",
       "11                   Iran            Western Asia      Asia        78086663   \n",
       "12                Germany          Western Europe    Europe        77794405   \n",
       "16         United Kingdom         Northern Europe    Europe        65001016   \n",
       "17                 France          Western Europe    Europe        59470000   \n",
       "19            South Korea            Eastern Asia      Asia        49421084   \n",
       "20                  Spain         Southern Europe    Europe        42400756   \n",
       "23                 Poland          Eastern Europe    Europe        34697848   \n",
       "24                 Canada        Northern America  Americas        33950632   \n",
       "33                 Taiwan            Eastern Asia      Asia        21920626   \n",
       "40            Netherlands          Western Europe    Europe        15877494   \n",
       "50                 Sweden         Northern Europe    Europe         9554907   \n",
       "53   United Arab Emirates            Western Asia      Asia         8913217   \n",
       "56            Switzerland          Western Europe    Europe         7942864   \n",
       "78                Denmark         Northern Europe    Europe         5407278   \n",
       "80                 Norway         Northern Europe    Europe         5120225   \n",
       "90            New Zealand  Australia, New Zealand   Oceania         4273353   \n",
       "94                 Kuwait            Western Asia      Asia         4053797   \n",
       "106                 Qatar            Western Asia      Asia         2532059   \n",
       "127               Bahrain            Western Asia      Asia         1431090   \n",
       "148            Luxembourg          Western Europe    Europe          570794   \n",
       "156                Brunei      South-eastern Asia      Asia          406705   \n",
       "163               Iceland         Northern Europe    Europe          329196   \n",
       "175   Aruba (Netherlands)               Caribbean  Americas          102285   \n",
       "178               Andorra         Southern Europe    Europe           76095   \n",
       "189               Bermuda        Northern America  Americas           60349   \n",
       "193         Faroe Islands         Northern Europe    Europe           48097   \n",
       "198                Monaco          Western Europe    Europe           37553   \n",
       "200         Liechtenstein          Western Europe    Europe           37201   \n",
       "201             Gibraltar         Southern Europe    Europe           32494   \n",
       "\n",
       "     Population  Proporção  \n",
       "2     327096265   0.954826  \n",
       "9     127202192   0.922940  \n",
       "11     81800188   0.954602  \n",
       "12     83124418   0.935879  \n",
       "16     67141684   0.968117  \n",
       "17     64990511   0.915057  \n",
       "19     51171706   0.965789  \n",
       "20     46692858   0.908078  \n",
       "23     37921592   0.914989  \n",
       "24     37064562   0.915986  \n",
       "33     23726460   0.923889  \n",
       "40     17059560   0.930709  \n",
       "50      9971638   0.958208  \n",
       "53      9630959   0.925476  \n",
       "56      8525611   0.931647  \n",
       "78      5752126   0.940049  \n",
       "80      5337962   0.959210  \n",
       "90      4743131   0.900956  \n",
       "94      4137312   0.979814  \n",
       "106     2781682   0.910262  \n",
       "127     1569446   0.911844  \n",
       "148      604245   0.944640  \n",
       "156      428963   0.948112  \n",
       "163      336713   0.977675  \n",
       "175      105845   0.966366  \n",
       "178       77006   0.988170  \n",
       "189       62756   0.961645  \n",
       "193       48497   0.991752  \n",
       "198       38682   0.970813  \n",
       "200       37910   0.981298  \n",
       "201       33718   0.963699  "
      ]
     },
     "execution_count": 47,
     "metadata": {},
     "output_type": "execute_result"
    }
   ],
   "source": [
    "users_clean.loc[users_clean['Proporção'] >= 0.9]"
   ]
  },
  {
   "cell_type": "code",
   "execution_count": 48,
   "id": "f73a768c-9034-49a9-aa74-522baf65fa2b",
   "metadata": {},
   "outputs": [
    {
     "data": {
      "text/html": [
       "<div>\n",
       "<style scoped>\n",
       "    .dataframe tbody tr th:only-of-type {\n",
       "        vertical-align: middle;\n",
       "    }\n",
       "\n",
       "    .dataframe tbody tr th {\n",
       "        vertical-align: top;\n",
       "    }\n",
       "\n",
       "    .dataframe thead th {\n",
       "        text-align: right;\n",
       "    }\n",
       "</style>\n",
       "<table border=\"1\" class=\"dataframe\">\n",
       "  <thead>\n",
       "    <tr style=\"text-align: right;\">\n",
       "      <th></th>\n",
       "      <th>Country or area</th>\n",
       "      <th>Subregion</th>\n",
       "      <th>Region</th>\n",
       "      <th>Internet users</th>\n",
       "      <th>Population</th>\n",
       "      <th>Proporção</th>\n",
       "    </tr>\n",
       "  </thead>\n",
       "  <tbody>\n",
       "    <tr>\n",
       "      <th>65</th>\n",
       "      <td>Democratic Republic of the Congo</td>\n",
       "      <td>Middle Africa</td>\n",
       "      <td>Africa</td>\n",
       "      <td>7011507</td>\n",
       "      <td>84068091</td>\n",
       "      <td>0.083403</td>\n",
       "    </tr>\n",
       "    <tr>\n",
       "      <th>107</th>\n",
       "      <td>Madagascar</td>\n",
       "      <td>Eastern Africa</td>\n",
       "      <td>Africa</td>\n",
       "      <td>2505948</td>\n",
       "      <td>26262313</td>\n",
       "      <td>0.095420</td>\n",
       "    </tr>\n",
       "    <tr>\n",
       "      <th>115</th>\n",
       "      <td>Niger</td>\n",
       "      <td>Western Africa</td>\n",
       "      <td>Africa</td>\n",
       "      <td>2194985</td>\n",
       "      <td>22442831</td>\n",
       "      <td>0.097803</td>\n",
       "    </tr>\n",
       "    <tr>\n",
       "      <th>135</th>\n",
       "      <td>South Sudan</td>\n",
       "      <td>Eastern Africa</td>\n",
       "      <td>Africa</td>\n",
       "      <td>1003542</td>\n",
       "      <td>10975927</td>\n",
       "      <td>0.091431</td>\n",
       "    </tr>\n",
       "    <tr>\n",
       "      <th>137</th>\n",
       "      <td>Chad</td>\n",
       "      <td>Middle Africa</td>\n",
       "      <td>Africa</td>\n",
       "      <td>968500</td>\n",
       "      <td>15477729</td>\n",
       "      <td>0.062574</td>\n",
       "    </tr>\n",
       "    <tr>\n",
       "      <th>147</th>\n",
       "      <td>Burundi</td>\n",
       "      <td>Eastern Africa</td>\n",
       "      <td>Africa</td>\n",
       "      <td>607311</td>\n",
       "      <td>11175374</td>\n",
       "      <td>0.054344</td>\n",
       "    </tr>\n",
       "    <tr>\n",
       "      <th>151</th>\n",
       "      <td>Congo</td>\n",
       "      <td>Middle Africa</td>\n",
       "      <td>Africa</td>\n",
       "      <td>455055</td>\n",
       "      <td>5244359</td>\n",
       "      <td>0.086770</td>\n",
       "    </tr>\n",
       "    <tr>\n",
       "      <th>158</th>\n",
       "      <td>Liberia</td>\n",
       "      <td>Western Africa</td>\n",
       "      <td>Africa</td>\n",
       "      <td>377607</td>\n",
       "      <td>4818973</td>\n",
       "      <td>0.078358</td>\n",
       "    </tr>\n",
       "    <tr>\n",
       "      <th>165</th>\n",
       "      <td>Somalia</td>\n",
       "      <td>Eastern Africa</td>\n",
       "      <td>Africa</td>\n",
       "      <td>294851</td>\n",
       "      <td>15008226</td>\n",
       "      <td>0.019646</td>\n",
       "    </tr>\n",
       "    <tr>\n",
       "      <th>172</th>\n",
       "      <td>Central African Republic</td>\n",
       "      <td>Middle Africa</td>\n",
       "      <td>Africa</td>\n",
       "      <td>202204</td>\n",
       "      <td>4666368</td>\n",
       "      <td>0.043332</td>\n",
       "    </tr>\n",
       "    <tr>\n",
       "      <th>179</th>\n",
       "      <td>Guinea-Bissau</td>\n",
       "      <td>Western Africa</td>\n",
       "      <td>Africa</td>\n",
       "      <td>73148</td>\n",
       "      <td>1874303</td>\n",
       "      <td>0.039027</td>\n",
       "    </tr>\n",
       "    <tr>\n",
       "      <th>183</th>\n",
       "      <td>Comoros</td>\n",
       "      <td>Eastern Africa</td>\n",
       "      <td>Africa</td>\n",
       "      <td>69020</td>\n",
       "      <td>832322</td>\n",
       "      <td>0.082925</td>\n",
       "    </tr>\n",
       "    <tr>\n",
       "      <th>185</th>\n",
       "      <td>Eritrea</td>\n",
       "      <td>Eastern Africa</td>\n",
       "      <td>Africa</td>\n",
       "      <td>66402</td>\n",
       "      <td>3452786</td>\n",
       "      <td>0.019231</td>\n",
       "    </tr>\n",
       "  </tbody>\n",
       "</table>\n",
       "</div>"
      ],
      "text/plain": [
       "                      Country or area       Subregion  Region  Internet users  \\\n",
       "65   Democratic Republic of the Congo   Middle Africa  Africa         7011507   \n",
       "107                        Madagascar  Eastern Africa  Africa         2505948   \n",
       "115                             Niger  Western Africa  Africa         2194985   \n",
       "135                       South Sudan  Eastern Africa  Africa         1003542   \n",
       "137                              Chad   Middle Africa  Africa          968500   \n",
       "147                           Burundi  Eastern Africa  Africa          607311   \n",
       "151                             Congo   Middle Africa  Africa          455055   \n",
       "158                           Liberia  Western Africa  Africa          377607   \n",
       "165                           Somalia  Eastern Africa  Africa          294851   \n",
       "172          Central African Republic   Middle Africa  Africa          202204   \n",
       "179                     Guinea-Bissau  Western Africa  Africa           73148   \n",
       "183                           Comoros  Eastern Africa  Africa           69020   \n",
       "185                           Eritrea  Eastern Africa  Africa           66402   \n",
       "\n",
       "     Population  Proporção  \n",
       "65     84068091   0.083403  \n",
       "107    26262313   0.095420  \n",
       "115    22442831   0.097803  \n",
       "135    10975927   0.091431  \n",
       "137    15477729   0.062574  \n",
       "147    11175374   0.054344  \n",
       "151     5244359   0.086770  \n",
       "158     4818973   0.078358  \n",
       "165    15008226   0.019646  \n",
       "172     4666368   0.043332  \n",
       "179     1874303   0.039027  \n",
       "183      832322   0.082925  \n",
       "185     3452786   0.019231  "
      ]
     },
     "execution_count": 48,
     "metadata": {},
     "output_type": "execute_result"
    }
   ],
   "source": [
    "users_clean.loc[users_clean['Proporção'] <= 0.1]"
   ]
  },
  {
   "cell_type": "code",
   "execution_count": null,
   "id": "e230503e-5588-4c1c-8c4b-60b9408bfb56",
   "metadata": {},
   "outputs": [],
   "source": []
  }
 ],
 "metadata": {
  "kernelspec": {
   "display_name": "Python 3 (ipykernel)",
   "language": "python",
   "name": "python3"
  },
  "language_info": {
   "codemirror_mode": {
    "name": "ipython",
    "version": 3
   },
   "file_extension": ".py",
   "mimetype": "text/x-python",
   "name": "python",
   "nbconvert_exporter": "python",
   "pygments_lexer": "ipython3",
   "version": "3.9.12"
  }
 },
 "nbformat": 4,
 "nbformat_minor": 5
}
